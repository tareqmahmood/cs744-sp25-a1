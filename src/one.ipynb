{
 "cells": [
  {
   "cell_type": "code",
   "execution_count": 1,
   "id": "b3bbc0c8-26c5-42cd-b169-18be42688f6a",
   "metadata": {},
   "outputs": [],
   "source": [
    "from pyspark.sql import SparkSession"
   ]
  },
  {
   "cell_type": "code",
   "execution_count": 2,
   "id": "fc9216b8-f514-47fd-98c3-60b71ad5da9b",
   "metadata": {},
   "outputs": [
    {
     "name": "stderr",
     "output_type": "stream",
     "text": [
      "Setting default log level to \"WARN\".\n",
      "To adjust logging level use sc.setLogLevel(newLevel). For SparkR, use setLogLevel(newLevel).\n"
     ]
    },
    {
     "name": "stdout",
     "output_type": "stream",
     "text": [
      "25/01/30 21:21:32 WARN NativeCodeLoader: Unable to load native-hadoop library for your platform... using builtin-java classes where applicable\n"
     ]
    }
   ],
   "source": [
    "# Initialize SparkSession\n",
    "spark = (SparkSession.builder\n",
    "        .appName(\"cs744\")\n",
    "        .master(\"spark://master:7077\")\n",
    "        .config(\"spark.driver.memory\", \"20g\")\n",
    "        .config(\"spark.executor.memory\", \"20g\")\n",
    "        .config(\"spark.executor.cores\", \"4\")\n",
    "        .getOrCreate())"
   ]
  },
  {
   "cell_type": "markdown",
   "id": "6cff878c-9df0-42fc-ac8e-0987e2c6b259",
   "metadata": {},
   "source": [
    "# Reading Data"
   ]
  },
  {
   "cell_type": "code",
   "execution_count": 3,
   "id": "da94945f-3694-42e5-80ec-fef475e68f6e",
   "metadata": {},
   "outputs": [
    {
     "name": "stderr",
     "output_type": "stream",
     "text": [
      "                                                                                "
     ]
    }
   ],
   "source": [
    "holidays = spark.read.csv(\"hdfs://nn:9000/holidays2.csv\", inferSchema=True, header=True)"
   ]
  },
  {
   "cell_type": "code",
   "execution_count": 4,
   "id": "b760fcb2-89a5-4949-b4c6-e240709cb4ed",
   "metadata": {},
   "outputs": [
    {
     "name": "stderr",
     "output_type": "stream",
     "text": [
      "                                                                                "
     ]
    },
    {
     "data": {
      "text/html": [
       "<div>\n",
       "<style scoped>\n",
       "    .dataframe tbody tr th:only-of-type {\n",
       "        vertical-align: middle;\n",
       "    }\n",
       "\n",
       "    .dataframe tbody tr th {\n",
       "        vertical-align: top;\n",
       "    }\n",
       "\n",
       "    .dataframe thead th {\n",
       "        text-align: right;\n",
       "    }\n",
       "</style>\n",
       "<table border=\"1\" class=\"dataframe\">\n",
       "  <thead>\n",
       "    <tr style=\"text-align: right;\">\n",
       "      <th></th>\n",
       "      <th>date</th>\n",
       "      <th>holiday</th>\n",
       "    </tr>\n",
       "  </thead>\n",
       "  <tbody>\n",
       "    <tr>\n",
       "      <th>0</th>\n",
       "      <td>01/01/2013</td>\n",
       "      <td>New Year's Day</td>\n",
       "    </tr>\n",
       "    <tr>\n",
       "      <th>1</th>\n",
       "      <td>01/01/2014</td>\n",
       "      <td>New Year's Day</td>\n",
       "    </tr>\n",
       "    <tr>\n",
       "      <th>2</th>\n",
       "      <td>01/01/2015</td>\n",
       "      <td>New Year's Day</td>\n",
       "    </tr>\n",
       "  </tbody>\n",
       "</table>\n",
       "</div>"
      ],
      "text/plain": [
       "         date         holiday\n",
       "0  01/01/2013  New Year's Day\n",
       "1  01/01/2014  New Year's Day\n",
       "2  01/01/2015  New Year's Day"
      ]
     },
     "execution_count": 4,
     "metadata": {},
     "output_type": "execute_result"
    }
   ],
   "source": [
    "holidays.limit(3).toPandas()"
   ]
  },
  {
   "cell_type": "code",
   "execution_count": 5,
   "id": "5a1d89ba-76c6-4be5-9984-dd0f9a1b44c2",
   "metadata": {},
   "outputs": [
    {
     "name": "stderr",
     "output_type": "stream",
     "text": [
      "                                                                                "
     ]
    }
   ],
   "source": [
    "calls = spark.read.csv(\"hdfs://nn:9000/sf.csv\", inferSchema=True, header=True)"
   ]
  },
  {
   "cell_type": "code",
   "execution_count": 6,
   "id": "aafb7df9-8368-4d4b-88dc-14a29d6c1ae3",
   "metadata": {},
   "outputs": [
    {
     "name": "stdout",
     "output_type": "stream",
     "text": [
      "25/01/30 21:22:00 WARN package: Truncated the string representation of a plan since it was too large. This behavior can be adjusted by setting 'spark.sql.debug.maxToStringFields'.\n"
     ]
    },
    {
     "data": {
      "text/html": [
       "<div>\n",
       "<style scoped>\n",
       "    .dataframe tbody tr th:only-of-type {\n",
       "        vertical-align: middle;\n",
       "    }\n",
       "\n",
       "    .dataframe tbody tr th {\n",
       "        vertical-align: top;\n",
       "    }\n",
       "\n",
       "    .dataframe thead th {\n",
       "        text-align: right;\n",
       "    }\n",
       "</style>\n",
       "<table border=\"1\" class=\"dataframe\">\n",
       "  <thead>\n",
       "    <tr style=\"text-align: right;\">\n",
       "      <th></th>\n",
       "      <th>Call Number</th>\n",
       "      <th>Unit ID</th>\n",
       "      <th>Incident Number</th>\n",
       "      <th>Call Type</th>\n",
       "      <th>Call Date</th>\n",
       "      <th>Watch Date</th>\n",
       "      <th>Received DtTm</th>\n",
       "      <th>Entry DtTm</th>\n",
       "      <th>Dispatch DtTm</th>\n",
       "      <th>Response DtTm</th>\n",
       "      <th>...</th>\n",
       "      <th>Call Type Group</th>\n",
       "      <th>Number of Alarms</th>\n",
       "      <th>Unit Type</th>\n",
       "      <th>Unit sequence in call dispatch</th>\n",
       "      <th>Fire Prevention District</th>\n",
       "      <th>Supervisor District</th>\n",
       "      <th>Neighborhooods - Analysis Boundaries</th>\n",
       "      <th>RowID</th>\n",
       "      <th>case_location</th>\n",
       "      <th>Analysis Neighborhoods</th>\n",
       "    </tr>\n",
       "  </thead>\n",
       "  <tbody>\n",
       "    <tr>\n",
       "      <th>0</th>\n",
       "      <td>221210313</td>\n",
       "      <td>E36</td>\n",
       "      <td>22054955</td>\n",
       "      <td>Outside Fire</td>\n",
       "      <td>05/01/2022</td>\n",
       "      <td>04/30/2022</td>\n",
       "      <td>05/01/2022 02:58:25 AM</td>\n",
       "      <td>05/01/2022 02:59:15 AM</td>\n",
       "      <td>05/01/2022 02:59:25 AM</td>\n",
       "      <td>05/01/2022 03:01:06 AM</td>\n",
       "      <td>...</td>\n",
       "      <td>Fire</td>\n",
       "      <td>1</td>\n",
       "      <td>ENGINE</td>\n",
       "      <td>1</td>\n",
       "      <td>2</td>\n",
       "      <td>5</td>\n",
       "      <td>Hayes Valley</td>\n",
       "      <td>221210313-E36</td>\n",
       "      <td>POINT (-122.42316555403964 37.77781524520032)</td>\n",
       "      <td>9</td>\n",
       "    </tr>\n",
       "    <tr>\n",
       "      <th>1</th>\n",
       "      <td>220190150</td>\n",
       "      <td>E29</td>\n",
       "      <td>22008871</td>\n",
       "      <td>Alarms</td>\n",
       "      <td>01/19/2022</td>\n",
       "      <td>01/18/2022</td>\n",
       "      <td>01/19/2022 01:42:12 AM</td>\n",
       "      <td>01/19/2022 01:44:13 AM</td>\n",
       "      <td>01/19/2022 01:44:28 AM</td>\n",
       "      <td>01/19/2022 01:46:47 AM</td>\n",
       "      <td>...</td>\n",
       "      <td>Alarm</td>\n",
       "      <td>1</td>\n",
       "      <td>ENGINE</td>\n",
       "      <td>1</td>\n",
       "      <td>3</td>\n",
       "      <td>10</td>\n",
       "      <td>Potrero Hill</td>\n",
       "      <td>220190150-E29</td>\n",
       "      <td>POINT (-122.39469970274361 37.76460987856451)</td>\n",
       "      <td>26</td>\n",
       "    </tr>\n",
       "    <tr>\n",
       "      <th>2</th>\n",
       "      <td>211233271</td>\n",
       "      <td>T07</td>\n",
       "      <td>21053032</td>\n",
       "      <td>Alarms</td>\n",
       "      <td>05/03/2021</td>\n",
       "      <td>05/03/2021</td>\n",
       "      <td>05/03/2021 09:28:12 PM</td>\n",
       "      <td>05/03/2021 09:28:12 PM</td>\n",
       "      <td>05/03/2021 09:28:17 PM</td>\n",
       "      <td>05/03/2021 09:29:10 PM</td>\n",
       "      <td>...</td>\n",
       "      <td>Alarm</td>\n",
       "      <td>1</td>\n",
       "      <td>TRUCK</td>\n",
       "      <td>2</td>\n",
       "      <td>2</td>\n",
       "      <td>9</td>\n",
       "      <td>Mission</td>\n",
       "      <td>211233271-T07</td>\n",
       "      <td>POINT (-122.42057572093252 37.76418194637148)</td>\n",
       "      <td>20</td>\n",
       "    </tr>\n",
       "  </tbody>\n",
       "</table>\n",
       "<p>3 rows × 35 columns</p>\n",
       "</div>"
      ],
      "text/plain": [
       "   Call Number Unit ID  Incident Number     Call Type   Call Date  Watch Date  \\\n",
       "0    221210313     E36         22054955  Outside Fire  05/01/2022  04/30/2022   \n",
       "1    220190150     E29         22008871        Alarms  01/19/2022  01/18/2022   \n",
       "2    211233271     T07         21053032        Alarms  05/03/2021  05/03/2021   \n",
       "\n",
       "            Received DtTm              Entry DtTm           Dispatch DtTm  \\\n",
       "0  05/01/2022 02:58:25 AM  05/01/2022 02:59:15 AM  05/01/2022 02:59:25 AM   \n",
       "1  01/19/2022 01:42:12 AM  01/19/2022 01:44:13 AM  01/19/2022 01:44:28 AM   \n",
       "2  05/03/2021 09:28:12 PM  05/03/2021 09:28:12 PM  05/03/2021 09:28:17 PM   \n",
       "\n",
       "            Response DtTm  ... Call Type Group Number of Alarms Unit Type  \\\n",
       "0  05/01/2022 03:01:06 AM  ...            Fire                1    ENGINE   \n",
       "1  01/19/2022 01:46:47 AM  ...           Alarm                1    ENGINE   \n",
       "2  05/03/2021 09:29:10 PM  ...           Alarm                1     TRUCK   \n",
       "\n",
       "  Unit sequence in call dispatch Fire Prevention District Supervisor District  \\\n",
       "0                              1                        2                   5   \n",
       "1                              1                        3                  10   \n",
       "2                              2                        2                   9   \n",
       "\n",
       "  Neighborhooods - Analysis Boundaries          RowID  \\\n",
       "0                         Hayes Valley  221210313-E36   \n",
       "1                         Potrero Hill  220190150-E29   \n",
       "2                              Mission  211233271-T07   \n",
       "\n",
       "                                   case_location Analysis Neighborhoods  \n",
       "0  POINT (-122.42316555403964 37.77781524520032)                      9  \n",
       "1  POINT (-122.39469970274361 37.76460987856451)                     26  \n",
       "2  POINT (-122.42057572093252 37.76418194637148)                     20  \n",
       "\n",
       "[3 rows x 35 columns]"
      ]
     },
     "execution_count": 6,
     "metadata": {},
     "output_type": "execute_result"
    }
   ],
   "source": [
    "calls.limit(3).toPandas()"
   ]
  },
  {
   "cell_type": "markdown",
   "id": "24f60050-e1b5-49fe-a0eb-fcde8cc73234",
   "metadata": {},
   "source": [
    "# Filtering"
   ]
  },
  {
   "cell_type": "code",
   "execution_count": 7,
   "id": "25856378-75e3-47eb-973d-4afc917e049d",
   "metadata": {},
   "outputs": [],
   "source": [
    "from pyspark.sql.functions import col"
   ]
  },
  {
   "cell_type": "code",
   "execution_count": 8,
   "id": "60095d86-7f53-4563-b00b-e95a1cb543d3",
   "metadata": {},
   "outputs": [],
   "source": [
    "holidays_14 = holidays.filter(col(\"date\").contains(\"2014\"))"
   ]
  },
  {
   "cell_type": "code",
   "execution_count": 9,
   "id": "ba52f8f8-1d52-46f6-9006-d147d0b8823f",
   "metadata": {},
   "outputs": [],
   "source": [
    "holidays_14_birth = holidays_14.filter(col(\"holiday\").contains(\"Birthday\"))"
   ]
  },
  {
   "cell_type": "code",
   "execution_count": 10,
   "id": "62c07e35-6a42-48fa-9b3a-3d1184dabbd4",
   "metadata": {},
   "outputs": [
    {
     "data": {
      "text/plain": [
       "2"
      ]
     },
     "execution_count": 10,
     "metadata": {},
     "output_type": "execute_result"
    }
   ],
   "source": [
    "holidays_14_birth.count()"
   ]
  },
  {
   "cell_type": "code",
   "execution_count": 11,
   "id": "d4177963-4d29-4de6-bce0-a6f1d50b2b0b",
   "metadata": {},
   "outputs": [
    {
     "name": "stdout",
     "output_type": "stream",
     "text": [
      "+----------+--------------------+\n",
      "|      date|             holiday|\n",
      "+----------+--------------------+\n",
      "|01/20/2014|Birthday of Marti...|\n",
      "|02/17/2014|Washington's Birt...|\n",
      "+----------+--------------------+\n",
      "\n"
     ]
    }
   ],
   "source": [
    "holidays_14_birth.show()"
   ]
  },
  {
   "cell_type": "code",
   "execution_count": null,
   "id": "dbedb62d-6334-41e6-8016-5adb1df32fab",
   "metadata": {},
   "outputs": [],
   "source": []
  },
  {
   "cell_type": "code",
   "execution_count": 12,
   "id": "8e68db00-fa72-417b-8ea7-018a5e6f9cf9",
   "metadata": {},
   "outputs": [],
   "source": [
    "from pyspark.sql.functions import expr"
   ]
  },
  {
   "cell_type": "code",
   "execution_count": 13,
   "id": "f12e9672-93ea-4ff0-977d-e9577b30ec84",
   "metadata": {},
   "outputs": [
    {
     "data": {
      "text/plain": [
       "24"
      ]
     },
     "execution_count": 13,
     "metadata": {},
     "output_type": "execute_result"
    }
   ],
   "source": [
    "holidays.filter(expr(\"holiday like '%Birthday%'\")).count()"
   ]
  },
  {
   "cell_type": "code",
   "execution_count": 14,
   "id": "45426da8-1f86-477c-9896-0cf1bb1b93bd",
   "metadata": {},
   "outputs": [
    {
     "data": {
      "text/plain": [
       "2"
      ]
     },
     "execution_count": 14,
     "metadata": {},
     "output_type": "execute_result"
    }
   ],
   "source": [
    "holidays.filter(expr(\"holiday like '%Birthday%' AND date like '%2014'\")).count()"
   ]
  },
  {
   "cell_type": "markdown",
   "id": "2d7a06f4-cc05-418a-a11d-5776ceb2e9fb",
   "metadata": {},
   "source": [
    "# Create New Column"
   ]
  },
  {
   "cell_type": "code",
   "execution_count": 15,
   "id": "7a65c64e-11e6-478e-9e7b-53165466a554",
   "metadata": {},
   "outputs": [],
   "source": [
    "from pyspark.sql.functions import lower"
   ]
  },
  {
   "cell_type": "code",
   "execution_count": 16,
   "id": "cdf2b0c8-9ee0-4239-a88c-0d4dce6de1a1",
   "metadata": {},
   "outputs": [],
   "source": [
    "holidays_14 = holidays_14.withColumn(\"holiday_lower\", lower(col(\"holiday\")))"
   ]
  },
  {
   "cell_type": "code",
   "execution_count": 17,
   "id": "58b93b85-93cc-42fc-8356-c15473c3f9a4",
   "metadata": {},
   "outputs": [
    {
     "data": {
      "text/plain": [
       "DataFrame[date: string, holiday: string, holiday_lower: string]"
      ]
     },
     "execution_count": 17,
     "metadata": {},
     "output_type": "execute_result"
    }
   ],
   "source": [
    "holidays_14"
   ]
  },
  {
   "cell_type": "code",
   "execution_count": 18,
   "id": "9748e494-63f7-4fa5-b984-109b77571687",
   "metadata": {},
   "outputs": [],
   "source": [
    "holidays_14_birth = holidays_14.filter(col(\"holiday_lower\").contains(\"birthday\"))"
   ]
  },
  {
   "cell_type": "code",
   "execution_count": 19,
   "id": "e6ea6955-d74e-432e-8635-84ad17a3032b",
   "metadata": {},
   "outputs": [
    {
     "data": {
      "text/plain": [
       "2"
      ]
     },
     "execution_count": 19,
     "metadata": {},
     "output_type": "execute_result"
    }
   ],
   "source": [
    "holidays_14_birth.count()"
   ]
  },
  {
   "cell_type": "markdown",
   "id": "3e5980ef-9e4d-4401-8421-4a92dc54960c",
   "metadata": {},
   "source": [
    "# Select"
   ]
  },
  {
   "cell_type": "code",
   "execution_count": 20,
   "id": "85c143e9-29dd-42be-a316-38f8f72d715d",
   "metadata": {},
   "outputs": [
    {
     "data": {
      "text/plain": [
       "DataFrame[Call Date: string]"
      ]
     },
     "execution_count": 20,
     "metadata": {},
     "output_type": "execute_result"
    }
   ],
   "source": [
    "calls.select(\"Call Date\")"
   ]
  },
  {
   "cell_type": "code",
   "execution_count": 21,
   "id": "b1080c27-1f14-4ace-b7c5-327fac290355",
   "metadata": {},
   "outputs": [
    {
     "data": {
      "text/html": [
       "<div>\n",
       "<style scoped>\n",
       "    .dataframe tbody tr th:only-of-type {\n",
       "        vertical-align: middle;\n",
       "    }\n",
       "\n",
       "    .dataframe tbody tr th {\n",
       "        vertical-align: top;\n",
       "    }\n",
       "\n",
       "    .dataframe thead th {\n",
       "        text-align: right;\n",
       "    }\n",
       "</style>\n",
       "<table border=\"1\" class=\"dataframe\">\n",
       "  <thead>\n",
       "    <tr style=\"text-align: right;\">\n",
       "      <th></th>\n",
       "      <th>Call Date</th>\n",
       "      <th>Call Type</th>\n",
       "    </tr>\n",
       "  </thead>\n",
       "  <tbody>\n",
       "    <tr>\n",
       "      <th>0</th>\n",
       "      <td>05/01/2022</td>\n",
       "      <td>Outside Fire</td>\n",
       "    </tr>\n",
       "    <tr>\n",
       "      <th>1</th>\n",
       "      <td>01/19/2022</td>\n",
       "      <td>Alarms</td>\n",
       "    </tr>\n",
       "    <tr>\n",
       "      <th>2</th>\n",
       "      <td>05/03/2021</td>\n",
       "      <td>Alarms</td>\n",
       "    </tr>\n",
       "  </tbody>\n",
       "</table>\n",
       "</div>"
      ],
      "text/plain": [
       "    Call Date     Call Type\n",
       "0  05/01/2022  Outside Fire\n",
       "1  01/19/2022        Alarms\n",
       "2  05/03/2021        Alarms"
      ]
     },
     "execution_count": 21,
     "metadata": {},
     "output_type": "execute_result"
    }
   ],
   "source": [
    "calls.select(\"Call Date\", \"Call Type\").limit(3).toPandas()"
   ]
  },
  {
   "cell_type": "markdown",
   "id": "092df168-cc18-4b2b-81a6-92ba2e534330",
   "metadata": {},
   "source": [
    "# Grouping"
   ]
  },
  {
   "cell_type": "code",
   "execution_count": 22,
   "id": "f715410e-5ab8-45c1-a4b1-bbef1f6ed6e7",
   "metadata": {},
   "outputs": [],
   "source": [
    "# SELECT SUM(`Number of Alarms`) as \"Total Alarms\"\n",
    "# FROM calls\n",
    "# GROUP BY `Call Type`\n",
    "# WHERE `Call Date` = '01/01/2014'"
   ]
  },
  {
   "cell_type": "code",
   "execution_count": 23,
   "id": "57970c58-a574-4f22-9e63-78348ae206e8",
   "metadata": {},
   "outputs": [],
   "source": [
    "calls_date = calls.filter(expr(\"`Call Date` = '01/01/2014'\"))"
   ]
  },
  {
   "cell_type": "code",
   "execution_count": 24,
   "id": "74da1789-f7d1-458d-afa5-9fd8e9c68ac0",
   "metadata": {},
   "outputs": [
    {
     "name": "stderr",
     "output_type": "stream",
     "text": [
      "                                                                                "
     ]
    },
    {
     "data": {
      "text/html": [
       "<div>\n",
       "<style scoped>\n",
       "    .dataframe tbody tr th:only-of-type {\n",
       "        vertical-align: middle;\n",
       "    }\n",
       "\n",
       "    .dataframe tbody tr th {\n",
       "        vertical-align: top;\n",
       "    }\n",
       "\n",
       "    .dataframe thead th {\n",
       "        text-align: right;\n",
       "    }\n",
       "</style>\n",
       "<table border=\"1\" class=\"dataframe\">\n",
       "  <thead>\n",
       "    <tr style=\"text-align: right;\">\n",
       "      <th></th>\n",
       "      <th>Call Number</th>\n",
       "      <th>Unit ID</th>\n",
       "      <th>Incident Number</th>\n",
       "      <th>Call Type</th>\n",
       "      <th>Call Date</th>\n",
       "      <th>Watch Date</th>\n",
       "      <th>Received DtTm</th>\n",
       "      <th>Entry DtTm</th>\n",
       "      <th>Dispatch DtTm</th>\n",
       "      <th>Response DtTm</th>\n",
       "      <th>...</th>\n",
       "      <th>Call Type Group</th>\n",
       "      <th>Number of Alarms</th>\n",
       "      <th>Unit Type</th>\n",
       "      <th>Unit sequence in call dispatch</th>\n",
       "      <th>Fire Prevention District</th>\n",
       "      <th>Supervisor District</th>\n",
       "      <th>Neighborhooods - Analysis Boundaries</th>\n",
       "      <th>RowID</th>\n",
       "      <th>case_location</th>\n",
       "      <th>Analysis Neighborhoods</th>\n",
       "    </tr>\n",
       "  </thead>\n",
       "  <tbody>\n",
       "    <tr>\n",
       "      <th>0</th>\n",
       "      <td>140010567</td>\n",
       "      <td>E36</td>\n",
       "      <td>14000479</td>\n",
       "      <td>Structure Fire</td>\n",
       "      <td>01/01/2014</td>\n",
       "      <td>01/01/2014</td>\n",
       "      <td>01/01/2014 09:32:54 PM</td>\n",
       "      <td>01/01/2014 09:33:31 PM</td>\n",
       "      <td>01/01/2014 09:36:27 PM</td>\n",
       "      <td>01/01/2014 09:37:00 PM</td>\n",
       "      <td>...</td>\n",
       "      <td>Fire</td>\n",
       "      <td>1</td>\n",
       "      <td>ENGINE</td>\n",
       "      <td>12</td>\n",
       "      <td>4</td>\n",
       "      <td>5</td>\n",
       "      <td>Western Addition</td>\n",
       "      <td>140010567-E36</td>\n",
       "      <td>POINT (-122.427815582933 37.784448089516)</td>\n",
       "      <td>39</td>\n",
       "    </tr>\n",
       "    <tr>\n",
       "      <th>1</th>\n",
       "      <td>140010061</td>\n",
       "      <td>KM12</td>\n",
       "      <td>14000046</td>\n",
       "      <td>Structure Fire</td>\n",
       "      <td>01/01/2014</td>\n",
       "      <td>12/31/2013</td>\n",
       "      <td>01/01/2014 12:43:09 AM</td>\n",
       "      <td>01/01/2014 12:44:07 AM</td>\n",
       "      <td>01/01/2014 12:47:31 AM</td>\n",
       "      <td>01/01/2014 12:47:31 AM</td>\n",
       "      <td>...</td>\n",
       "      <td>Alarm</td>\n",
       "      <td>1</td>\n",
       "      <td>PRIVATE</td>\n",
       "      <td>7</td>\n",
       "      <td>4</td>\n",
       "      <td>2</td>\n",
       "      <td>Marina</td>\n",
       "      <td>140010061-KM12</td>\n",
       "      <td>POINT (-122.429500504516 37.801174806033)</td>\n",
       "      <td>13</td>\n",
       "    </tr>\n",
       "    <tr>\n",
       "      <th>2</th>\n",
       "      <td>140010523</td>\n",
       "      <td>B08</td>\n",
       "      <td>14000439</td>\n",
       "      <td>Alarms</td>\n",
       "      <td>01/01/2014</td>\n",
       "      <td>01/01/2014</td>\n",
       "      <td>01/01/2014 06:47:53 PM</td>\n",
       "      <td>01/01/2014 06:50:10 PM</td>\n",
       "      <td>01/01/2014 06:50:17 PM</td>\n",
       "      <td>01/01/2014 06:50:59 PM</td>\n",
       "      <td>...</td>\n",
       "      <td>Alarm</td>\n",
       "      <td>1</td>\n",
       "      <td>CHIEF</td>\n",
       "      <td>2</td>\n",
       "      <td>8</td>\n",
       "      <td>7</td>\n",
       "      <td>Inner Sunset</td>\n",
       "      <td>140010523-B08</td>\n",
       "      <td>POINT (-122.47140400613 37.761010743685)</td>\n",
       "      <td>14</td>\n",
       "    </tr>\n",
       "  </tbody>\n",
       "</table>\n",
       "<p>3 rows × 35 columns</p>\n",
       "</div>"
      ],
      "text/plain": [
       "   Call Number Unit ID  Incident Number       Call Type   Call Date  \\\n",
       "0    140010567     E36         14000479  Structure Fire  01/01/2014   \n",
       "1    140010061    KM12         14000046  Structure Fire  01/01/2014   \n",
       "2    140010523     B08         14000439          Alarms  01/01/2014   \n",
       "\n",
       "   Watch Date           Received DtTm              Entry DtTm  \\\n",
       "0  01/01/2014  01/01/2014 09:32:54 PM  01/01/2014 09:33:31 PM   \n",
       "1  12/31/2013  01/01/2014 12:43:09 AM  01/01/2014 12:44:07 AM   \n",
       "2  01/01/2014  01/01/2014 06:47:53 PM  01/01/2014 06:50:10 PM   \n",
       "\n",
       "            Dispatch DtTm           Response DtTm  ... Call Type Group  \\\n",
       "0  01/01/2014 09:36:27 PM  01/01/2014 09:37:00 PM  ...            Fire   \n",
       "1  01/01/2014 12:47:31 AM  01/01/2014 12:47:31 AM  ...           Alarm   \n",
       "2  01/01/2014 06:50:17 PM  01/01/2014 06:50:59 PM  ...           Alarm   \n",
       "\n",
       "  Number of Alarms Unit Type Unit sequence in call dispatch  \\\n",
       "0                1    ENGINE                             12   \n",
       "1                1   PRIVATE                              7   \n",
       "2                1     CHIEF                              2   \n",
       "\n",
       "  Fire Prevention District Supervisor District  \\\n",
       "0                        4                   5   \n",
       "1                        4                   2   \n",
       "2                        8                   7   \n",
       "\n",
       "  Neighborhooods - Analysis Boundaries           RowID  \\\n",
       "0                     Western Addition   140010567-E36   \n",
       "1                               Marina  140010061-KM12   \n",
       "2                         Inner Sunset   140010523-B08   \n",
       "\n",
       "                               case_location Analysis Neighborhoods  \n",
       "0  POINT (-122.427815582933 37.784448089516)                     39  \n",
       "1  POINT (-122.429500504516 37.801174806033)                     13  \n",
       "2   POINT (-122.47140400613 37.761010743685)                     14  \n",
       "\n",
       "[3 rows x 35 columns]"
      ]
     },
     "execution_count": 24,
     "metadata": {},
     "output_type": "execute_result"
    }
   ],
   "source": [
    "calls_date.limit(3).toPandas()"
   ]
  },
  {
   "cell_type": "code",
   "execution_count": 25,
   "id": "0dca731d-a91f-4123-ad3e-7b3a24edc5b1",
   "metadata": {},
   "outputs": [],
   "source": [
    "from pyspark.sql.functions import sum"
   ]
  },
  {
   "cell_type": "code",
   "execution_count": 26,
   "id": "41b7a7f3-2c6a-49b1-9f4c-94591ce909c9",
   "metadata": {},
   "outputs": [],
   "source": [
    "calls_grouped = calls_date.groupBy(\"Call Type\").agg(sum(\"Number of Alarms\").alias(\"Num_Alarms\"))"
   ]
  },
  {
   "cell_type": "code",
   "execution_count": 27,
   "id": "4b4ed5b9-3f51-4a1b-9adc-bd0193863bac",
   "metadata": {},
   "outputs": [
    {
     "name": "stderr",
     "output_type": "stream",
     "text": [
      "[Stage 22:=================================================>      (15 + 2) / 17]"
     ]
    },
    {
     "name": "stdout",
     "output_type": "stream",
     "text": [
      "+--------------------+----------+\n",
      "|           Call Type|Num_Alarms|\n",
      "+--------------------+----------+\n",
      "|      Structure Fire|       164|\n",
      "|    Medical Incident|       818|\n",
      "|              Alarms|        82|\n",
      "|Elevator / Escala...|         1|\n",
      "|Citizen Assist / ...|        10|\n",
      "|        Vehicle Fire|         2|\n",
      "|               Other|        25|\n",
      "|        Outside Fire|        35|\n",
      "|   Traffic Collision|        54|\n",
      "|Gas Leak (Natural...|         7|\n",
      "|        Water Rescue|        13|\n",
      "|          Fuel Spill|         5|\n",
      "|Smoke Investigati...|         2|\n",
      "+--------------------+----------+\n",
      "\n"
     ]
    },
    {
     "name": "stderr",
     "output_type": "stream",
     "text": [
      "                                                                                "
     ]
    }
   ],
   "source": [
    "calls_grouped.show()"
   ]
  },
  {
   "cell_type": "markdown",
   "id": "5efd78ea-f575-4755-bb53-6fffda01a94b",
   "metadata": {},
   "source": [
    "# Caching"
   ]
  },
  {
   "cell_type": "code",
   "execution_count": 28,
   "id": "65ebd0a5-1a46-4645-8424-420457ee1e85",
   "metadata": {},
   "outputs": [],
   "source": [
    "calls_high = calls_grouped.filter(expr(\"Num_Alarms > 100\"))"
   ]
  },
  {
   "cell_type": "code",
   "execution_count": 29,
   "id": "ab461723-095d-4ada-b5ad-553770ffd206",
   "metadata": {},
   "outputs": [
    {
     "name": "stderr",
     "output_type": "stream",
     "text": [
      "[Stage 25:=================================================>      (15 + 2) / 17]"
     ]
    },
    {
     "name": "stdout",
     "output_type": "stream",
     "text": [
      "CPU times: user 21.5 ms, sys: 11.3 ms, total: 32.7 ms\n",
      "Wall time: 7.09 s\n"
     ]
    },
    {
     "name": "stderr",
     "output_type": "stream",
     "text": [
      "                                                                                "
     ]
    },
    {
     "data": {
      "text/plain": [
       "2"
      ]
     },
     "execution_count": 29,
     "metadata": {},
     "output_type": "execute_result"
    }
   ],
   "source": [
    "%%time\n",
    "calls_high.count()"
   ]
  },
  {
   "cell_type": "code",
   "execution_count": null,
   "id": "2af3d4c2-3348-47ac-8d26-366af131e744",
   "metadata": {},
   "outputs": [],
   "source": []
  },
  {
   "cell_type": "code",
   "execution_count": 30,
   "id": "1e0588c6-6c35-4306-b3bd-22e1273a635c",
   "metadata": {},
   "outputs": [
    {
     "data": {
      "text/plain": [
       "DataFrame[Call Type: string, Num_Alarms: bigint]"
      ]
     },
     "execution_count": 30,
     "metadata": {},
     "output_type": "execute_result"
    }
   ],
   "source": [
    "calls_grouped.cache()"
   ]
  },
  {
   "cell_type": "code",
   "execution_count": 31,
   "id": "17ebe8af-3a9d-45bd-a06d-cc5e073e8e6d",
   "metadata": {},
   "outputs": [
    {
     "name": "stderr",
     "output_type": "stream",
     "text": [
      "[Stage 32:===============================>                     (118 + 12) / 200]"
     ]
    },
    {
     "name": "stdout",
     "output_type": "stream",
     "text": [
      "CPU times: user 16.7 ms, sys: 9.38 ms, total: 26.1 ms\n",
      "Wall time: 5.58 s\n"
     ]
    },
    {
     "name": "stderr",
     "output_type": "stream",
     "text": [
      "                                                                                "
     ]
    },
    {
     "data": {
      "text/plain": [
       "2"
      ]
     },
     "execution_count": 31,
     "metadata": {},
     "output_type": "execute_result"
    }
   ],
   "source": [
    "%%time\n",
    "calls_high.count()"
   ]
  },
  {
   "cell_type": "code",
   "execution_count": 32,
   "id": "4edaeca5-e689-40df-9057-5f936d449744",
   "metadata": {},
   "outputs": [
    {
     "name": "stdout",
     "output_type": "stream",
     "text": [
      "CPU times: user 0 ns, sys: 3.28 ms, total: 3.28 ms\n",
      "Wall time: 610 ms\n"
     ]
    },
    {
     "data": {
      "text/plain": [
       "2"
      ]
     },
     "execution_count": 32,
     "metadata": {},
     "output_type": "execute_result"
    }
   ],
   "source": [
    "%%time\n",
    "calls_high.count()"
   ]
  },
  {
   "cell_type": "code",
   "execution_count": 33,
   "id": "b00c6301-0407-49db-9035-5c239d014ef2",
   "metadata": {},
   "outputs": [
    {
     "data": {
      "text/plain": [
       "DataFrame[Call Type: string, Num_Alarms: bigint]"
      ]
     },
     "execution_count": 33,
     "metadata": {},
     "output_type": "execute_result"
    }
   ],
   "source": [
    "calls_grouped.unpersist()"
   ]
  },
  {
   "cell_type": "markdown",
   "id": "b8ac8a97-203c-4ce0-b9c7-8507f7b03154",
   "metadata": {},
   "source": [
    "# Join"
   ]
  },
  {
   "cell_type": "code",
   "execution_count": 34,
   "id": "e497f518-f0b0-4f25-b49c-ed28e53b6e90",
   "metadata": {},
   "outputs": [],
   "source": [
    "joined_df = holidays.join(calls, holidays['date'] == calls['Call Date'], \"inner\")"
   ]
  },
  {
   "cell_type": "code",
   "execution_count": 35,
   "id": "4b828c24-6b74-44e1-a7c9-27a70756ad51",
   "metadata": {},
   "outputs": [
    {
     "data": {
      "text/html": [
       "<div>\n",
       "<style scoped>\n",
       "    .dataframe tbody tr th:only-of-type {\n",
       "        vertical-align: middle;\n",
       "    }\n",
       "\n",
       "    .dataframe tbody tr th {\n",
       "        vertical-align: top;\n",
       "    }\n",
       "\n",
       "    .dataframe thead th {\n",
       "        text-align: right;\n",
       "    }\n",
       "</style>\n",
       "<table border=\"1\" class=\"dataframe\">\n",
       "  <thead>\n",
       "    <tr style=\"text-align: right;\">\n",
       "      <th></th>\n",
       "      <th>date</th>\n",
       "      <th>holiday</th>\n",
       "      <th>Call Number</th>\n",
       "      <th>Unit ID</th>\n",
       "      <th>Incident Number</th>\n",
       "      <th>Call Type</th>\n",
       "      <th>Call Date</th>\n",
       "      <th>Watch Date</th>\n",
       "      <th>Received DtTm</th>\n",
       "      <th>Entry DtTm</th>\n",
       "      <th>...</th>\n",
       "      <th>Call Type Group</th>\n",
       "      <th>Number of Alarms</th>\n",
       "      <th>Unit Type</th>\n",
       "      <th>Unit sequence in call dispatch</th>\n",
       "      <th>Fire Prevention District</th>\n",
       "      <th>Supervisor District</th>\n",
       "      <th>Neighborhooods - Analysis Boundaries</th>\n",
       "      <th>RowID</th>\n",
       "      <th>case_location</th>\n",
       "      <th>Analysis Neighborhoods</th>\n",
       "    </tr>\n",
       "  </thead>\n",
       "  <tbody>\n",
       "    <tr>\n",
       "      <th>0</th>\n",
       "      <td>01/17/2022</td>\n",
       "      <td>Birthday of Martin Luther King, Jr.</td>\n",
       "      <td>220173023</td>\n",
       "      <td>67</td>\n",
       "      <td>22008351</td>\n",
       "      <td>Medical Incident</td>\n",
       "      <td>01/17/2022</td>\n",
       "      <td>01/17/2022</td>\n",
       "      <td>01/17/2022 09:23:31 PM</td>\n",
       "      <td>01/17/2022 09:24:26 PM</td>\n",
       "      <td>...</td>\n",
       "      <td>Potentially Life-Threatening</td>\n",
       "      <td>1</td>\n",
       "      <td>MEDIC</td>\n",
       "      <td>2</td>\n",
       "      <td>10</td>\n",
       "      <td>10</td>\n",
       "      <td>Bayview Hunters Point</td>\n",
       "      <td>220173023-67</td>\n",
       "      <td>POINT (-122.39096789028375 37.73401387414893)</td>\n",
       "      <td>1</td>\n",
       "    </tr>\n",
       "    <tr>\n",
       "      <th>1</th>\n",
       "      <td>01/17/2022</td>\n",
       "      <td>Birthday of Martin Luther King, Jr.</td>\n",
       "      <td>220170811</td>\n",
       "      <td>B02</td>\n",
       "      <td>22008104</td>\n",
       "      <td>Alarms</td>\n",
       "      <td>01/17/2022</td>\n",
       "      <td>01/17/2022</td>\n",
       "      <td>01/17/2022 09:28:15 AM</td>\n",
       "      <td>01/17/2022 09:29:17 AM</td>\n",
       "      <td>...</td>\n",
       "      <td>Alarm</td>\n",
       "      <td>1</td>\n",
       "      <td>CHIEF</td>\n",
       "      <td>2</td>\n",
       "      <td>2</td>\n",
       "      <td>9</td>\n",
       "      <td>Mission</td>\n",
       "      <td>220170811-B02</td>\n",
       "      <td>POINT (-122.4207461905871 37.765041354178884)</td>\n",
       "      <td>20</td>\n",
       "    </tr>\n",
       "    <tr>\n",
       "      <th>2</th>\n",
       "      <td>07/05/2021</td>\n",
       "      <td>Independence Day</td>\n",
       "      <td>211862605</td>\n",
       "      <td>E07</td>\n",
       "      <td>21079789</td>\n",
       "      <td>Medical Incident</td>\n",
       "      <td>07/05/2021</td>\n",
       "      <td>07/05/2021</td>\n",
       "      <td>07/05/2021 05:19:43 PM</td>\n",
       "      <td>07/05/2021 05:24:46 PM</td>\n",
       "      <td>...</td>\n",
       "      <td>Non Life-threatening</td>\n",
       "      <td>1</td>\n",
       "      <td>ENGINE</td>\n",
       "      <td>1</td>\n",
       "      <td>2</td>\n",
       "      <td>9</td>\n",
       "      <td>Mission</td>\n",
       "      <td>211862605-E07</td>\n",
       "      <td>POINT (-122.42173999514011 37.76411273839148)</td>\n",
       "      <td>20</td>\n",
       "    </tr>\n",
       "  </tbody>\n",
       "</table>\n",
       "<p>3 rows × 37 columns</p>\n",
       "</div>"
      ],
      "text/plain": [
       "         date                              holiday  Call Number Unit ID  \\\n",
       "0  01/17/2022  Birthday of Martin Luther King, Jr.    220173023      67   \n",
       "1  01/17/2022  Birthday of Martin Luther King, Jr.    220170811     B02   \n",
       "2  07/05/2021                     Independence Day    211862605     E07   \n",
       "\n",
       "   Incident Number         Call Type   Call Date  Watch Date  \\\n",
       "0         22008351  Medical Incident  01/17/2022  01/17/2022   \n",
       "1         22008104            Alarms  01/17/2022  01/17/2022   \n",
       "2         21079789  Medical Incident  07/05/2021  07/05/2021   \n",
       "\n",
       "            Received DtTm              Entry DtTm  ...  \\\n",
       "0  01/17/2022 09:23:31 PM  01/17/2022 09:24:26 PM  ...   \n",
       "1  01/17/2022 09:28:15 AM  01/17/2022 09:29:17 AM  ...   \n",
       "2  07/05/2021 05:19:43 PM  07/05/2021 05:24:46 PM  ...   \n",
       "\n",
       "                Call Type Group Number of Alarms Unit Type  \\\n",
       "0  Potentially Life-Threatening                1     MEDIC   \n",
       "1                         Alarm                1     CHIEF   \n",
       "2          Non Life-threatening                1    ENGINE   \n",
       "\n",
       "  Unit sequence in call dispatch Fire Prevention District Supervisor District  \\\n",
       "0                              2                       10                  10   \n",
       "1                              2                        2                   9   \n",
       "2                              1                        2                   9   \n",
       "\n",
       "  Neighborhooods - Analysis Boundaries          RowID  \\\n",
       "0                Bayview Hunters Point   220173023-67   \n",
       "1                              Mission  220170811-B02   \n",
       "2                              Mission  211862605-E07   \n",
       "\n",
       "                                   case_location  Analysis Neighborhoods  \n",
       "0  POINT (-122.39096789028375 37.73401387414893)                       1  \n",
       "1  POINT (-122.4207461905871 37.765041354178884)                      20  \n",
       "2  POINT (-122.42173999514011 37.76411273839148)                      20  \n",
       "\n",
       "[3 rows x 37 columns]"
      ]
     },
     "execution_count": 35,
     "metadata": {},
     "output_type": "execute_result"
    }
   ],
   "source": [
    "joined_df.limit(3).toPandas()"
   ]
  },
  {
   "cell_type": "code",
   "execution_count": 36,
   "id": "dff7901e-e896-48ba-84ce-93f340485be0",
   "metadata": {},
   "outputs": [],
   "source": [
    "birth_df = joined_df.filter(expr(\"lower(holiday) like '%birthday%'\"))"
   ]
  },
  {
   "cell_type": "code",
   "execution_count": 37,
   "id": "b1a25c71-d77f-4d43-95a3-3e79bcb0a7c4",
   "metadata": {},
   "outputs": [],
   "source": [
    "birth_df = birth_df.agg(sum(\"Number of Alarms\"))"
   ]
  },
  {
   "cell_type": "code",
   "execution_count": 38,
   "id": "0c1070a5-1b05-460f-9d68-48ea928aeda0",
   "metadata": {},
   "outputs": [
    {
     "name": "stderr",
     "output_type": "stream",
     "text": [
      "[Stage 44:==============================================>         (14 + 3) / 17]"
     ]
    },
    {
     "name": "stdout",
     "output_type": "stream",
     "text": [
      "+---------------------+\n",
      "|sum(Number of Alarms)|\n",
      "+---------------------+\n",
      "|                18646|\n",
      "+---------------------+\n",
      "\n"
     ]
    },
    {
     "name": "stderr",
     "output_type": "stream",
     "text": [
      "                                                                                "
     ]
    }
   ],
   "source": [
    "birth_df.show()"
   ]
  },
  {
   "cell_type": "markdown",
   "id": "d568b353-64aa-42c3-b677-e0cef7ff5926",
   "metadata": {},
   "source": [
    "# Partition"
   ]
  },
  {
   "cell_type": "code",
   "execution_count": 63,
   "id": "b048c117-14dd-4484-9cb8-99a6ec1f2770",
   "metadata": {},
   "outputs": [
    {
     "data": {
      "text/plain": [
       "DataFrame[Call Number: int, Unit ID: string, Incident Number: int, Call Type: string, Call Date: string, Watch Date: string, Received DtTm: string, Entry DtTm: string, Dispatch DtTm: string, Response DtTm: string, On Scene DtTm: string, Transport DtTm: string, Hospital DtTm: string, Call Final Disposition: string, Available DtTm: string, Address: string, City: string, Zipcode of Incident: int, Battalion: string, Station Area: string, Box: string, Original Priority: string, Priority: string, Final Priority: int, ALS Unit: boolean, Call Type Group: string, Number of Alarms: int, Unit Type: string, Unit sequence in call dispatch: int, Fire Prevention District: string, Supervisor District: string, Neighborhooods - Analysis Boundaries: string, RowID: string, case_location: string, Analysis Neighborhoods: int]"
      ]
     },
     "execution_count": 63,
     "metadata": {},
     "output_type": "execute_result"
    }
   ],
   "source": [
    "# df.unpersist()"
   ]
  },
  {
   "cell_type": "code",
   "execution_count": 64,
   "id": "88578f6f-7f5f-4148-b473-b3516c7cf13d",
   "metadata": {},
   "outputs": [
    {
     "name": "stderr",
     "output_type": "stream",
     "text": [
      "                                                                                "
     ]
    },
    {
     "data": {
      "text/plain": [
       "6016056"
      ]
     },
     "execution_count": 64,
     "metadata": {},
     "output_type": "execute_result"
    }
   ],
   "source": [
    "calls.count()"
   ]
  },
  {
   "cell_type": "code",
   "execution_count": 65,
   "id": "46fde1a2-2548-4f2c-9114-fb9a0411c023",
   "metadata": {},
   "outputs": [],
   "source": [
    "df = calls.sample(0.01)"
   ]
  },
  {
   "cell_type": "code",
   "execution_count": 66,
   "id": "e51aecae-c93d-46bf-82e8-5e893ef5312d",
   "metadata": {},
   "outputs": [
    {
     "name": "stderr",
     "output_type": "stream",
     "text": [
      "[Stage 92:=================================================>      (15 + 2) / 17]"
     ]
    },
    {
     "name": "stdout",
     "output_type": "stream",
     "text": [
      "CPU times: user 6.07 ms, sys: 18.7 ms, total: 24.8 ms\n",
      "Wall time: 3.9 s\n"
     ]
    },
    {
     "name": "stderr",
     "output_type": "stream",
     "text": [
      "                                                                                "
     ]
    },
    {
     "data": {
      "text/plain": [
       "60590"
      ]
     },
     "execution_count": 66,
     "metadata": {},
     "output_type": "execute_result"
    }
   ],
   "source": [
    "%%time\n",
    "df.count()"
   ]
  },
  {
   "cell_type": "markdown",
   "id": "86367fb9-8d58-4023-aa34-c461a6cbd930",
   "metadata": {},
   "source": [
    "## Only Caching"
   ]
  },
  {
   "cell_type": "code",
   "execution_count": 67,
   "id": "7ee84ef7-97c1-4fd8-8f5b-296415636ef3",
   "metadata": {},
   "outputs": [
    {
     "data": {
      "text/plain": [
       "DataFrame[Call Number: int, Unit ID: string, Incident Number: int, Call Type: string, Call Date: string, Watch Date: string, Received DtTm: string, Entry DtTm: string, Dispatch DtTm: string, Response DtTm: string, On Scene DtTm: string, Transport DtTm: string, Hospital DtTm: string, Call Final Disposition: string, Available DtTm: string, Address: string, City: string, Zipcode of Incident: int, Battalion: string, Station Area: string, Box: string, Original Priority: string, Priority: string, Final Priority: int, ALS Unit: boolean, Call Type Group: string, Number of Alarms: int, Unit Type: string, Unit sequence in call dispatch: int, Fire Prevention District: string, Supervisor District: string, Neighborhooods - Analysis Boundaries: string, RowID: string, case_location: string, Analysis Neighborhoods: int]"
      ]
     },
     "execution_count": 67,
     "metadata": {},
     "output_type": "execute_result"
    }
   ],
   "source": [
    "df.cache()"
   ]
  },
  {
   "cell_type": "code",
   "execution_count": 68,
   "id": "e6face62-80f5-45dc-9a07-652d302ddc26",
   "metadata": {},
   "outputs": [
    {
     "name": "stderr",
     "output_type": "stream",
     "text": [
      "[Stage 95:==============================================>         (14 + 3) / 17]"
     ]
    },
    {
     "name": "stdout",
     "output_type": "stream",
     "text": [
      "CPU times: user 12.7 ms, sys: 6.77 ms, total: 19.5 ms\n",
      "Wall time: 8.84 s\n"
     ]
    },
    {
     "name": "stderr",
     "output_type": "stream",
     "text": [
      "                                                                                "
     ]
    },
    {
     "data": {
      "text/plain": [
       "60590"
      ]
     },
     "execution_count": 68,
     "metadata": {},
     "output_type": "execute_result"
    }
   ],
   "source": [
    "%%time\n",
    "df.count()"
   ]
  },
  {
   "cell_type": "code",
   "execution_count": 74,
   "id": "9e88141c-53d0-43a9-b569-94b7bf8335d6",
   "metadata": {},
   "outputs": [
    {
     "name": "stdout",
     "output_type": "stream",
     "text": [
      "125 ms ± 15.4 ms per loop (mean ± std. dev. of 7 runs, 10 loops each)\n"
     ]
    }
   ],
   "source": [
    "%%timeit\n",
    "df.count()"
   ]
  },
  {
   "cell_type": "markdown",
   "id": "5455558c-8da5-467b-a4ab-b6e321bccf8f",
   "metadata": {},
   "source": [
    "## Repartition"
   ]
  },
  {
   "cell_type": "code",
   "execution_count": 75,
   "id": "b2f70911-198f-4900-b5ef-064f9fd32cd9",
   "metadata": {},
   "outputs": [],
   "source": [
    "df = calls.sample(0.01).repartition(1)"
   ]
  },
  {
   "cell_type": "code",
   "execution_count": 77,
   "id": "721029c7-8574-4d6f-8f08-69cea07f5073",
   "metadata": {},
   "outputs": [
    {
     "name": "stderr",
     "output_type": "stream",
     "text": [
      "[Stage 380:================================================>      (15 + 2) / 17]"
     ]
    },
    {
     "name": "stdout",
     "output_type": "stream",
     "text": [
      "3.97 s ± 1.03 s per loop (mean ± std. dev. of 7 runs, 1 loop each)\n"
     ]
    },
    {
     "name": "stderr",
     "output_type": "stream",
     "text": [
      "                                                                                "
     ]
    }
   ],
   "source": [
    "%%timeit\n",
    "df.count()"
   ]
  },
  {
   "cell_type": "markdown",
   "id": "94cd00e3-ca16-472c-af56-e6da7590b0f3",
   "metadata": {},
   "source": [
    "## Repartition + Caching"
   ]
  },
  {
   "cell_type": "code",
   "execution_count": 78,
   "id": "cd41b65f-d90f-4f7b-b7ad-a37d4f71f6b5",
   "metadata": {},
   "outputs": [
    {
     "data": {
      "text/plain": [
       "DataFrame[Call Number: int, Unit ID: string, Incident Number: int, Call Type: string, Call Date: string, Watch Date: string, Received DtTm: string, Entry DtTm: string, Dispatch DtTm: string, Response DtTm: string, On Scene DtTm: string, Transport DtTm: string, Hospital DtTm: string, Call Final Disposition: string, Available DtTm: string, Address: string, City: string, Zipcode of Incident: int, Battalion: string, Station Area: string, Box: string, Original Priority: string, Priority: string, Final Priority: int, ALS Unit: boolean, Call Type Group: string, Number of Alarms: int, Unit Type: string, Unit sequence in call dispatch: int, Fire Prevention District: string, Supervisor District: string, Neighborhooods - Analysis Boundaries: string, RowID: string, case_location: string, Analysis Neighborhoods: int]"
      ]
     },
     "execution_count": 78,
     "metadata": {},
     "output_type": "execute_result"
    }
   ],
   "source": [
    "df.cache()"
   ]
  },
  {
   "cell_type": "code",
   "execution_count": 79,
   "id": "6dd400ef-504d-45e2-9282-2823971eb4d9",
   "metadata": {},
   "outputs": [
    {
     "name": "stderr",
     "output_type": "stream",
     "text": [
      "[Stage 384:>                                                        (0 + 1) / 1]"
     ]
    },
    {
     "name": "stdout",
     "output_type": "stream",
     "text": [
      "CPU times: user 5.81 ms, sys: 21.1 ms, total: 27 ms\n",
      "Wall time: 9.66 s\n"
     ]
    },
    {
     "name": "stderr",
     "output_type": "stream",
     "text": [
      "                                                                                "
     ]
    },
    {
     "data": {
      "text/plain": [
       "59691"
      ]
     },
     "execution_count": 79,
     "metadata": {},
     "output_type": "execute_result"
    }
   ],
   "source": [
    "%%time\n",
    "df.count()"
   ]
  },
  {
   "cell_type": "code",
   "execution_count": 80,
   "id": "77cab4c8-5e6f-4680-a7ac-f9f35121c13a",
   "metadata": {},
   "outputs": [
    {
     "name": "stdout",
     "output_type": "stream",
     "text": [
      "45.1 ms ± 3.83 ms per loop (mean ± std. dev. of 7 runs, 10 loops each)\n"
     ]
    }
   ],
   "source": [
    "%%timeit\n",
    "df.count()"
   ]
  },
  {
   "cell_type": "code",
   "execution_count": 81,
   "id": "4ec17fb9-fd16-4450-89a5-0d2f86cc76b8",
   "metadata": {},
   "outputs": [
    {
     "data": {
      "text/plain": [
       "1"
      ]
     },
     "execution_count": 81,
     "metadata": {},
     "output_type": "execute_result"
    }
   ],
   "source": [
    "df.rdd.getNumPartitions()"
   ]
  },
  {
   "cell_type": "markdown",
   "id": "165eb7c2-c957-4639-a7f3-397a841b9394",
   "metadata": {},
   "source": [
    "# Explain"
   ]
  },
  {
   "cell_type": "markdown",
   "id": "69e8905d-8094-4f41-84a2-3210b52b617e",
   "metadata": {},
   "source": [
    "```\n",
    "SELECT SUM(`Number of Alarms`)\n",
    "FROM holidays JOIN calls on holidays.date = calls.`Call Date`\n",
    "WHERE lower(holiday) like '%birthday%'\n",
    "```"
   ]
  },
  {
   "cell_type": "code",
   "execution_count": 82,
   "id": "7df24722-8002-4457-99b3-a0a79b7dc881",
   "metadata": {},
   "outputs": [],
   "source": [
    "joined_df = holidays.join(calls, holidays['date'] == calls['Call Date'], \"inner\")\n",
    "birth_df = joined_df.filter(expr(\"lower(holiday) like '%birthday%'\"))\n",
    "birth_df = birth_df.agg(sum(\"Number of Alarms\"))"
   ]
  },
  {
   "cell_type": "code",
   "execution_count": 83,
   "id": "95a67958-77fb-4d34-88e7-884bcfc18655",
   "metadata": {},
   "outputs": [
    {
     "name": "stderr",
     "output_type": "stream",
     "text": [
      "[Stage 548:===================================================>   (16 + 1) / 17]"
     ]
    },
    {
     "name": "stdout",
     "output_type": "stream",
     "text": [
      "+---------------------+\n",
      "|sum(Number of Alarms)|\n",
      "+---------------------+\n",
      "|                18646|\n",
      "+---------------------+\n",
      "\n"
     ]
    },
    {
     "name": "stderr",
     "output_type": "stream",
     "text": [
      "                                                                                "
     ]
    }
   ],
   "source": [
    "birth_df.show()"
   ]
  },
  {
   "cell_type": "code",
   "execution_count": 84,
   "id": "3af3dae1-0472-4df7-88fc-725685b5ed64",
   "metadata": {},
   "outputs": [
    {
     "name": "stdout",
     "output_type": "stream",
     "text": [
      "== Physical Plan ==\n",
      "AdaptiveSparkPlan (12)\n",
      "+- HashAggregate (11)\n",
      "   +- Exchange (10)\n",
      "      +- HashAggregate (9)\n",
      "         +- Project (8)\n",
      "            +- BroadcastHashJoin Inner BuildLeft (7)\n",
      "               :- BroadcastExchange (4)\n",
      "               :  +- Project (3)\n",
      "               :     +- Filter (2)\n",
      "               :        +- Scan csv  (1)\n",
      "               +- Filter (6)\n",
      "                  +- Scan csv  (5)\n",
      "\n",
      "\n",
      "(1) Scan csv \n",
      "Output [2]: [date#17, holiday#18]\n",
      "Batched: false\n",
      "Location: InMemoryFileIndex [hdfs://nn:9000/holidays2.csv]\n",
      "PushedFilters: [IsNotNull(holiday), IsNotNull(date)]\n",
      "ReadSchema: struct<date:string,holiday:string>\n",
      "\n",
      "(2) Filter\n",
      "Input [2]: [date#17, holiday#18]\n",
      "Condition : ((isnotnull(holiday#18) AND Contains(lower(holiday#18), birthday)) AND isnotnull(date#17))\n",
      "\n",
      "(3) Project\n",
      "Output [1]: [date#17]\n",
      "Input [2]: [date#17, holiday#18]\n",
      "\n",
      "(4) BroadcastExchange\n",
      "Input [1]: [date#17]\n",
      "Arguments: HashedRelationBroadcastMode(List(input[0, string, true]),false), [plan_id=5949]\n",
      "\n",
      "(5) Scan csv \n",
      "Output [2]: [Call Date#44, Number of Alarms#66]\n",
      "Batched: false\n",
      "Location: InMemoryFileIndex [hdfs://nn:9000/sf.csv]\n",
      "PushedFilters: [IsNotNull(Call Date)]\n",
      "ReadSchema: struct<Call Date:string,Number of Alarms:int>\n",
      "\n",
      "(6) Filter\n",
      "Input [2]: [Call Date#44, Number of Alarms#66]\n",
      "Condition : isnotnull(Call Date#44)\n",
      "\n",
      "(7) BroadcastHashJoin\n",
      "Left keys [1]: [date#17]\n",
      "Right keys [1]: [Call Date#44]\n",
      "Join condition: None\n",
      "\n",
      "(8) Project\n",
      "Output [1]: [Number of Alarms#66]\n",
      "Input [3]: [date#17, Call Date#44, Number of Alarms#66]\n",
      "\n",
      "(9) HashAggregate\n",
      "Input [1]: [Number of Alarms#66]\n",
      "Keys: []\n",
      "Functions [1]: [partial_sum(Number of Alarms#66)]\n",
      "Aggregate Attributes [1]: [sum#150267L]\n",
      "Results [1]: [sum#150268L]\n",
      "\n",
      "(10) Exchange\n",
      "Input [1]: [sum#150268L]\n",
      "Arguments: SinglePartition, ENSURE_REQUIREMENTS, [plan_id=5954]\n",
      "\n",
      "(11) HashAggregate\n",
      "Input [1]: [sum#150268L]\n",
      "Keys: []\n",
      "Functions [1]: [sum(Number of Alarms#66)]\n",
      "Aggregate Attributes [1]: [sum(Number of Alarms#66)#150224L]\n",
      "Results [1]: [sum(Number of Alarms#66)#150224L AS sum(Number of Alarms)#150262L]\n",
      "\n",
      "(12) AdaptiveSparkPlan\n",
      "Output [1]: [sum(Number of Alarms)#150262L]\n",
      "Arguments: isFinalPlan=false\n",
      "\n",
      "\n"
     ]
    }
   ],
   "source": [
    "birth_df.explain(\"formatted\")"
   ]
  }
 ],
 "metadata": {
  "kernelspec": {
   "display_name": "Python 3 (ipykernel)",
   "language": "python",
   "name": "python3"
  },
  "language_info": {
   "codemirror_mode": {
    "name": "ipython",
    "version": 3
   },
   "file_extension": ".py",
   "mimetype": "text/x-python",
   "name": "python",
   "nbconvert_exporter": "python",
   "pygments_lexer": "ipython3",
   "version": "3.10.12"
  }
 },
 "nbformat": 4,
 "nbformat_minor": 5
}
