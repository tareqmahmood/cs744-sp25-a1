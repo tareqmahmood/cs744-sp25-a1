{
 "cells": [
  {
   "cell_type": "code",
   "execution_count": 1,
   "id": "b3bbc0c8-26c5-42cd-b169-18be42688f6a",
   "metadata": {},
   "outputs": [],
   "source": [
    "from pyspark.sql import SparkSession"
   ]
  },
  {
   "cell_type": "code",
   "execution_count": 2,
   "id": "fc9216b8-f514-47fd-98c3-60b71ad5da9b",
   "metadata": {},
   "outputs": [
    {
     "name": "stderr",
     "output_type": "stream",
     "text": [
      "Setting default log level to \"WARN\".\n",
      "To adjust logging level use sc.setLogLevel(newLevel). For SparkR, use setLogLevel(newLevel).\n"
     ]
    },
    {
     "name": "stdout",
     "output_type": "stream",
     "text": [
      "25/01/30 19:24:52 WARN NativeCodeLoader: Unable to load native-hadoop library for your platform... using builtin-java classes where applicable\n"
     ]
    }
   ],
   "source": [
    "# Initialize SparkSession\n",
    "spark = (SparkSession.builder\n",
    "        .appName(\"cs744\")\n",
    "        .master(\"spark://master:7077\")\n",
    "        .config(\"spark.driver.memory\", \"20g\")\n",
    "        .config(\"spark.executor.memory\", \"20g\")\n",
    "        .config(\"spark.executor.cores\", \"4\")\n",
    "        .getOrCreate())"
   ]
  },
  {
   "cell_type": "markdown",
   "id": "6cff878c-9df0-42fc-ac8e-0987e2c6b259",
   "metadata": {},
   "source": [
    "# Reading Data"
   ]
  },
  {
   "cell_type": "code",
   "execution_count": 3,
   "id": "da94945f-3694-42e5-80ec-fef475e68f6e",
   "metadata": {},
   "outputs": [
    {
     "name": "stderr",
     "output_type": "stream",
     "text": [
      "                                                                                "
     ]
    }
   ],
   "source": [
    "holidays = spark.read.csv(\"hdfs://nn:9000/holidays2.csv\", inferSchema=True, header=True)"
   ]
  },
  {
   "cell_type": "code",
   "execution_count": 4,
   "id": "b760fcb2-89a5-4949-b4c6-e240709cb4ed",
   "metadata": {},
   "outputs": [
    {
     "name": "stderr",
     "output_type": "stream",
     "text": [
      "                                                                                "
     ]
    },
    {
     "data": {
      "text/html": [
       "<div>\n",
       "<style scoped>\n",
       "    .dataframe tbody tr th:only-of-type {\n",
       "        vertical-align: middle;\n",
       "    }\n",
       "\n",
       "    .dataframe tbody tr th {\n",
       "        vertical-align: top;\n",
       "    }\n",
       "\n",
       "    .dataframe thead th {\n",
       "        text-align: right;\n",
       "    }\n",
       "</style>\n",
       "<table border=\"1\" class=\"dataframe\">\n",
       "  <thead>\n",
       "    <tr style=\"text-align: right;\">\n",
       "      <th></th>\n",
       "      <th>date</th>\n",
       "      <th>holiday</th>\n",
       "    </tr>\n",
       "  </thead>\n",
       "  <tbody>\n",
       "    <tr>\n",
       "      <th>0</th>\n",
       "      <td>01/01/2013</td>\n",
       "      <td>New Year's Day</td>\n",
       "    </tr>\n",
       "    <tr>\n",
       "      <th>1</th>\n",
       "      <td>01/01/2014</td>\n",
       "      <td>New Year's Day</td>\n",
       "    </tr>\n",
       "    <tr>\n",
       "      <th>2</th>\n",
       "      <td>01/01/2015</td>\n",
       "      <td>New Year's Day</td>\n",
       "    </tr>\n",
       "  </tbody>\n",
       "</table>\n",
       "</div>"
      ],
      "text/plain": [
       "         date         holiday\n",
       "0  01/01/2013  New Year's Day\n",
       "1  01/01/2014  New Year's Day\n",
       "2  01/01/2015  New Year's Day"
      ]
     },
     "execution_count": 4,
     "metadata": {},
     "output_type": "execute_result"
    }
   ],
   "source": [
    "holidays.limit(3).toPandas()"
   ]
  },
  {
   "cell_type": "code",
   "execution_count": 5,
   "id": "5a1d89ba-76c6-4be5-9984-dd0f9a1b44c2",
   "metadata": {},
   "outputs": [
    {
     "name": "stderr",
     "output_type": "stream",
     "text": [
      "                                                                                "
     ]
    }
   ],
   "source": [
    "calls = spark.read.csv(\"hdfs://nn:9000/sf.csv\", inferSchema=True, header=True)"
   ]
  },
  {
   "cell_type": "code",
   "execution_count": 6,
   "id": "aafb7df9-8368-4d4b-88dc-14a29d6c1ae3",
   "metadata": {},
   "outputs": [
    {
     "name": "stdout",
     "output_type": "stream",
     "text": [
      "25/01/30 19:25:19 WARN package: Truncated the string representation of a plan since it was too large. This behavior can be adjusted by setting 'spark.sql.debug.maxToStringFields'.\n"
     ]
    },
    {
     "data": {
      "text/html": [
       "<div>\n",
       "<style scoped>\n",
       "    .dataframe tbody tr th:only-of-type {\n",
       "        vertical-align: middle;\n",
       "    }\n",
       "\n",
       "    .dataframe tbody tr th {\n",
       "        vertical-align: top;\n",
       "    }\n",
       "\n",
       "    .dataframe thead th {\n",
       "        text-align: right;\n",
       "    }\n",
       "</style>\n",
       "<table border=\"1\" class=\"dataframe\">\n",
       "  <thead>\n",
       "    <tr style=\"text-align: right;\">\n",
       "      <th></th>\n",
       "      <th>Call Number</th>\n",
       "      <th>Unit ID</th>\n",
       "      <th>Incident Number</th>\n",
       "      <th>Call Type</th>\n",
       "      <th>Call Date</th>\n",
       "      <th>Watch Date</th>\n",
       "      <th>Received DtTm</th>\n",
       "      <th>Entry DtTm</th>\n",
       "      <th>Dispatch DtTm</th>\n",
       "      <th>Response DtTm</th>\n",
       "      <th>...</th>\n",
       "      <th>Call Type Group</th>\n",
       "      <th>Number of Alarms</th>\n",
       "      <th>Unit Type</th>\n",
       "      <th>Unit sequence in call dispatch</th>\n",
       "      <th>Fire Prevention District</th>\n",
       "      <th>Supervisor District</th>\n",
       "      <th>Neighborhooods - Analysis Boundaries</th>\n",
       "      <th>RowID</th>\n",
       "      <th>case_location</th>\n",
       "      <th>Analysis Neighborhoods</th>\n",
       "    </tr>\n",
       "  </thead>\n",
       "  <tbody>\n",
       "    <tr>\n",
       "      <th>0</th>\n",
       "      <td>221210313</td>\n",
       "      <td>E36</td>\n",
       "      <td>22054955</td>\n",
       "      <td>Outside Fire</td>\n",
       "      <td>05/01/2022</td>\n",
       "      <td>04/30/2022</td>\n",
       "      <td>05/01/2022 02:58:25 AM</td>\n",
       "      <td>05/01/2022 02:59:15 AM</td>\n",
       "      <td>05/01/2022 02:59:25 AM</td>\n",
       "      <td>05/01/2022 03:01:06 AM</td>\n",
       "      <td>...</td>\n",
       "      <td>Fire</td>\n",
       "      <td>1</td>\n",
       "      <td>ENGINE</td>\n",
       "      <td>1</td>\n",
       "      <td>2</td>\n",
       "      <td>5</td>\n",
       "      <td>Hayes Valley</td>\n",
       "      <td>221210313-E36</td>\n",
       "      <td>POINT (-122.42316555403964 37.77781524520032)</td>\n",
       "      <td>9</td>\n",
       "    </tr>\n",
       "    <tr>\n",
       "      <th>1</th>\n",
       "      <td>220190150</td>\n",
       "      <td>E29</td>\n",
       "      <td>22008871</td>\n",
       "      <td>Alarms</td>\n",
       "      <td>01/19/2022</td>\n",
       "      <td>01/18/2022</td>\n",
       "      <td>01/19/2022 01:42:12 AM</td>\n",
       "      <td>01/19/2022 01:44:13 AM</td>\n",
       "      <td>01/19/2022 01:44:28 AM</td>\n",
       "      <td>01/19/2022 01:46:47 AM</td>\n",
       "      <td>...</td>\n",
       "      <td>Alarm</td>\n",
       "      <td>1</td>\n",
       "      <td>ENGINE</td>\n",
       "      <td>1</td>\n",
       "      <td>3</td>\n",
       "      <td>10</td>\n",
       "      <td>Potrero Hill</td>\n",
       "      <td>220190150-E29</td>\n",
       "      <td>POINT (-122.39469970274361 37.76460987856451)</td>\n",
       "      <td>26</td>\n",
       "    </tr>\n",
       "    <tr>\n",
       "      <th>2</th>\n",
       "      <td>211233271</td>\n",
       "      <td>T07</td>\n",
       "      <td>21053032</td>\n",
       "      <td>Alarms</td>\n",
       "      <td>05/03/2021</td>\n",
       "      <td>05/03/2021</td>\n",
       "      <td>05/03/2021 09:28:12 PM</td>\n",
       "      <td>05/03/2021 09:28:12 PM</td>\n",
       "      <td>05/03/2021 09:28:17 PM</td>\n",
       "      <td>05/03/2021 09:29:10 PM</td>\n",
       "      <td>...</td>\n",
       "      <td>Alarm</td>\n",
       "      <td>1</td>\n",
       "      <td>TRUCK</td>\n",
       "      <td>2</td>\n",
       "      <td>2</td>\n",
       "      <td>9</td>\n",
       "      <td>Mission</td>\n",
       "      <td>211233271-T07</td>\n",
       "      <td>POINT (-122.42057572093252 37.76418194637148)</td>\n",
       "      <td>20</td>\n",
       "    </tr>\n",
       "  </tbody>\n",
       "</table>\n",
       "<p>3 rows × 35 columns</p>\n",
       "</div>"
      ],
      "text/plain": [
       "   Call Number Unit ID  Incident Number     Call Type   Call Date  Watch Date  \\\n",
       "0    221210313     E36         22054955  Outside Fire  05/01/2022  04/30/2022   \n",
       "1    220190150     E29         22008871        Alarms  01/19/2022  01/18/2022   \n",
       "2    211233271     T07         21053032        Alarms  05/03/2021  05/03/2021   \n",
       "\n",
       "            Received DtTm              Entry DtTm           Dispatch DtTm  \\\n",
       "0  05/01/2022 02:58:25 AM  05/01/2022 02:59:15 AM  05/01/2022 02:59:25 AM   \n",
       "1  01/19/2022 01:42:12 AM  01/19/2022 01:44:13 AM  01/19/2022 01:44:28 AM   \n",
       "2  05/03/2021 09:28:12 PM  05/03/2021 09:28:12 PM  05/03/2021 09:28:17 PM   \n",
       "\n",
       "            Response DtTm  ... Call Type Group Number of Alarms Unit Type  \\\n",
       "0  05/01/2022 03:01:06 AM  ...            Fire                1    ENGINE   \n",
       "1  01/19/2022 01:46:47 AM  ...           Alarm                1    ENGINE   \n",
       "2  05/03/2021 09:29:10 PM  ...           Alarm                1     TRUCK   \n",
       "\n",
       "  Unit sequence in call dispatch Fire Prevention District Supervisor District  \\\n",
       "0                              1                        2                   5   \n",
       "1                              1                        3                  10   \n",
       "2                              2                        2                   9   \n",
       "\n",
       "  Neighborhooods - Analysis Boundaries          RowID  \\\n",
       "0                         Hayes Valley  221210313-E36   \n",
       "1                         Potrero Hill  220190150-E29   \n",
       "2                              Mission  211233271-T07   \n",
       "\n",
       "                                   case_location Analysis Neighborhoods  \n",
       "0  POINT (-122.42316555403964 37.77781524520032)                      9  \n",
       "1  POINT (-122.39469970274361 37.76460987856451)                     26  \n",
       "2  POINT (-122.42057572093252 37.76418194637148)                     20  \n",
       "\n",
       "[3 rows x 35 columns]"
      ]
     },
     "execution_count": 6,
     "metadata": {},
     "output_type": "execute_result"
    }
   ],
   "source": [
    "calls.limit(3).toPandas()"
   ]
  },
  {
   "cell_type": "markdown",
   "id": "24f60050-e1b5-49fe-a0eb-fcde8cc73234",
   "metadata": {},
   "source": [
    "# Filtering"
   ]
  },
  {
   "cell_type": "code",
   "execution_count": 28,
   "id": "25856378-75e3-47eb-973d-4afc917e049d",
   "metadata": {},
   "outputs": [],
   "source": [
    "from pyspark.sql.functions import col"
   ]
  },
  {
   "cell_type": "code",
   "execution_count": 29,
   "id": "60095d86-7f53-4563-b00b-e95a1cb543d3",
   "metadata": {},
   "outputs": [],
   "source": [
    "holidays_14 = holidays.filter(col(\"date\").contains(\"2014\"))"
   ]
  },
  {
   "cell_type": "code",
   "execution_count": 30,
   "id": "ba52f8f8-1d52-46f6-9006-d147d0b8823f",
   "metadata": {},
   "outputs": [],
   "source": [
    "holidays_14_birth = holidays_1.filter(col(\"holiday\").contains(\"Birthday\"))"
   ]
  },
  {
   "cell_type": "code",
   "execution_count": 31,
   "id": "62c07e35-6a42-48fa-9b3a-3d1184dabbd4",
   "metadata": {},
   "outputs": [
    {
     "data": {
      "text/plain": [
       "2"
      ]
     },
     "execution_count": 31,
     "metadata": {},
     "output_type": "execute_result"
    }
   ],
   "source": [
    "holidays_14_birth.count()"
   ]
  },
  {
   "cell_type": "code",
   "execution_count": 32,
   "id": "d4177963-4d29-4de6-bce0-a6f1d50b2b0b",
   "metadata": {},
   "outputs": [
    {
     "name": "stdout",
     "output_type": "stream",
     "text": [
      "+----------+--------------------+\n",
      "|      date|             holiday|\n",
      "+----------+--------------------+\n",
      "|01/20/2014|Birthday of Marti...|\n",
      "|02/17/2014|Washington's Birt...|\n",
      "+----------+--------------------+\n",
      "\n"
     ]
    }
   ],
   "source": [
    "holidays_2.show()"
   ]
  },
  {
   "cell_type": "code",
   "execution_count": null,
   "id": "dbedb62d-6334-41e6-8016-5adb1df32fab",
   "metadata": {},
   "outputs": [],
   "source": []
  },
  {
   "cell_type": "code",
   "execution_count": 47,
   "id": "8e68db00-fa72-417b-8ea7-018a5e6f9cf9",
   "metadata": {},
   "outputs": [],
   "source": [
    "from pyspark.sql.functions import expr"
   ]
  },
  {
   "cell_type": "code",
   "execution_count": 58,
   "id": "f12e9672-93ea-4ff0-977d-e9577b30ec84",
   "metadata": {},
   "outputs": [
    {
     "data": {
      "text/plain": [
       "24"
      ]
     },
     "execution_count": 58,
     "metadata": {},
     "output_type": "execute_result"
    }
   ],
   "source": [
    "holidays.filter(expr(\"holiday like '%Birthday%'\")).count()"
   ]
  },
  {
   "cell_type": "code",
   "execution_count": 59,
   "id": "45426da8-1f86-477c-9896-0cf1bb1b93bd",
   "metadata": {},
   "outputs": [
    {
     "data": {
      "text/plain": [
       "2"
      ]
     },
     "execution_count": 59,
     "metadata": {},
     "output_type": "execute_result"
    }
   ],
   "source": [
    "holidays.filter(expr(\"holiday like '%Birthday%' AND date like '%2014'\")).count()"
   ]
  },
  {
   "cell_type": "markdown",
   "id": "2d7a06f4-cc05-418a-a11d-5776ceb2e9fb",
   "metadata": {},
   "source": [
    "# Create New Column"
   ]
  },
  {
   "cell_type": "code",
   "execution_count": 33,
   "id": "7a65c64e-11e6-478e-9e7b-53165466a554",
   "metadata": {},
   "outputs": [],
   "source": [
    "from pyspark.sql.functions import lower"
   ]
  },
  {
   "cell_type": "code",
   "execution_count": 34,
   "id": "cdf2b0c8-9ee0-4239-a88c-0d4dce6de1a1",
   "metadata": {},
   "outputs": [],
   "source": [
    "holidays_14 = holidays_14.withColumn(\"holiday_lower\", lower(col(\"holiday\")))"
   ]
  },
  {
   "cell_type": "code",
   "execution_count": 35,
   "id": "58b93b85-93cc-42fc-8356-c15473c3f9a4",
   "metadata": {},
   "outputs": [
    {
     "data": {
      "text/plain": [
       "DataFrame[date: string, holiday: string, holiday_lower: string]"
      ]
     },
     "execution_count": 35,
     "metadata": {},
     "output_type": "execute_result"
    }
   ],
   "source": [
    "holidays_14"
   ]
  },
  {
   "cell_type": "code",
   "execution_count": 36,
   "id": "9748e494-63f7-4fa5-b984-109b77571687",
   "metadata": {},
   "outputs": [],
   "source": [
    "holidays_14_birth = holidays_14.filter(col(\"holiday_lower\").contains(\"birthday\"))"
   ]
  },
  {
   "cell_type": "code",
   "execution_count": 37,
   "id": "e6ea6955-d74e-432e-8635-84ad17a3032b",
   "metadata": {},
   "outputs": [
    {
     "data": {
      "text/plain": [
       "2"
      ]
     },
     "execution_count": 37,
     "metadata": {},
     "output_type": "execute_result"
    }
   ],
   "source": [
    "holidays_14_birth.count()"
   ]
  },
  {
   "cell_type": "markdown",
   "id": "3e5980ef-9e4d-4401-8421-4a92dc54960c",
   "metadata": {},
   "source": [
    "# Select"
   ]
  },
  {
   "cell_type": "code",
   "execution_count": 44,
   "id": "85c143e9-29dd-42be-a316-38f8f72d715d",
   "metadata": {},
   "outputs": [
    {
     "data": {
      "text/plain": [
       "DataFrame[Call Date: string]"
      ]
     },
     "execution_count": 44,
     "metadata": {},
     "output_type": "execute_result"
    }
   ],
   "source": [
    "calls.select(\"Call Date\")"
   ]
  },
  {
   "cell_type": "code",
   "execution_count": 45,
   "id": "b1080c27-1f14-4ace-b7c5-327fac290355",
   "metadata": {},
   "outputs": [
    {
     "data": {
      "text/html": [
       "<div>\n",
       "<style scoped>\n",
       "    .dataframe tbody tr th:only-of-type {\n",
       "        vertical-align: middle;\n",
       "    }\n",
       "\n",
       "    .dataframe tbody tr th {\n",
       "        vertical-align: top;\n",
       "    }\n",
       "\n",
       "    .dataframe thead th {\n",
       "        text-align: right;\n",
       "    }\n",
       "</style>\n",
       "<table border=\"1\" class=\"dataframe\">\n",
       "  <thead>\n",
       "    <tr style=\"text-align: right;\">\n",
       "      <th></th>\n",
       "      <th>Call Date</th>\n",
       "      <th>Call Type</th>\n",
       "    </tr>\n",
       "  </thead>\n",
       "  <tbody>\n",
       "    <tr>\n",
       "      <th>0</th>\n",
       "      <td>05/01/2022</td>\n",
       "      <td>Outside Fire</td>\n",
       "    </tr>\n",
       "    <tr>\n",
       "      <th>1</th>\n",
       "      <td>01/19/2022</td>\n",
       "      <td>Alarms</td>\n",
       "    </tr>\n",
       "    <tr>\n",
       "      <th>2</th>\n",
       "      <td>05/03/2021</td>\n",
       "      <td>Alarms</td>\n",
       "    </tr>\n",
       "  </tbody>\n",
       "</table>\n",
       "</div>"
      ],
      "text/plain": [
       "    Call Date     Call Type\n",
       "0  05/01/2022  Outside Fire\n",
       "1  01/19/2022        Alarms\n",
       "2  05/03/2021        Alarms"
      ]
     },
     "execution_count": 45,
     "metadata": {},
     "output_type": "execute_result"
    }
   ],
   "source": [
    "calls.select(\"Call Date\", \"Call Type\").limit(3).toPandas()"
   ]
  },
  {
   "cell_type": "markdown",
   "id": "092df168-cc18-4b2b-81a6-92ba2e534330",
   "metadata": {},
   "source": [
    "# Grouping"
   ]
  },
  {
   "cell_type": "code",
   "execution_count": 68,
   "id": "f715410e-5ab8-45c1-a4b1-bbef1f6ed6e7",
   "metadata": {},
   "outputs": [],
   "source": [
    "# SELECT SUM(`Number of Alarms`) as \"Total Alarms\"\n",
    "# FROM calls\n",
    "# GROUP BY `Call Type`\n",
    "# WHERE `Call Date` = '01/01/2014'"
   ]
  },
  {
   "cell_type": "code",
   "execution_count": 70,
   "id": "57970c58-a574-4f22-9e63-78348ae206e8",
   "metadata": {},
   "outputs": [],
   "source": [
    "calls_date = calls.filter(expr(\"`Call Date` = '01/01/2014'\"))"
   ]
  },
  {
   "cell_type": "code",
   "execution_count": 71,
   "id": "74da1789-f7d1-458d-afa5-9fd8e9c68ac0",
   "metadata": {},
   "outputs": [
    {
     "name": "stderr",
     "output_type": "stream",
     "text": [
      "                                                                                "
     ]
    },
    {
     "data": {
      "text/html": [
       "<div>\n",
       "<style scoped>\n",
       "    .dataframe tbody tr th:only-of-type {\n",
       "        vertical-align: middle;\n",
       "    }\n",
       "\n",
       "    .dataframe tbody tr th {\n",
       "        vertical-align: top;\n",
       "    }\n",
       "\n",
       "    .dataframe thead th {\n",
       "        text-align: right;\n",
       "    }\n",
       "</style>\n",
       "<table border=\"1\" class=\"dataframe\">\n",
       "  <thead>\n",
       "    <tr style=\"text-align: right;\">\n",
       "      <th></th>\n",
       "      <th>Call Number</th>\n",
       "      <th>Unit ID</th>\n",
       "      <th>Incident Number</th>\n",
       "      <th>Call Type</th>\n",
       "      <th>Call Date</th>\n",
       "      <th>Watch Date</th>\n",
       "      <th>Received DtTm</th>\n",
       "      <th>Entry DtTm</th>\n",
       "      <th>Dispatch DtTm</th>\n",
       "      <th>Response DtTm</th>\n",
       "      <th>...</th>\n",
       "      <th>Call Type Group</th>\n",
       "      <th>Number of Alarms</th>\n",
       "      <th>Unit Type</th>\n",
       "      <th>Unit sequence in call dispatch</th>\n",
       "      <th>Fire Prevention District</th>\n",
       "      <th>Supervisor District</th>\n",
       "      <th>Neighborhooods - Analysis Boundaries</th>\n",
       "      <th>RowID</th>\n",
       "      <th>case_location</th>\n",
       "      <th>Analysis Neighborhoods</th>\n",
       "    </tr>\n",
       "  </thead>\n",
       "  <tbody>\n",
       "    <tr>\n",
       "      <th>0</th>\n",
       "      <td>140010567</td>\n",
       "      <td>E36</td>\n",
       "      <td>14000479</td>\n",
       "      <td>Structure Fire</td>\n",
       "      <td>01/01/2014</td>\n",
       "      <td>01/01/2014</td>\n",
       "      <td>01/01/2014 09:32:54 PM</td>\n",
       "      <td>01/01/2014 09:33:31 PM</td>\n",
       "      <td>01/01/2014 09:36:27 PM</td>\n",
       "      <td>01/01/2014 09:37:00 PM</td>\n",
       "      <td>...</td>\n",
       "      <td>Fire</td>\n",
       "      <td>1</td>\n",
       "      <td>ENGINE</td>\n",
       "      <td>12</td>\n",
       "      <td>4</td>\n",
       "      <td>5</td>\n",
       "      <td>Western Addition</td>\n",
       "      <td>140010567-E36</td>\n",
       "      <td>POINT (-122.427815582933 37.784448089516)</td>\n",
       "      <td>39</td>\n",
       "    </tr>\n",
       "    <tr>\n",
       "      <th>1</th>\n",
       "      <td>140010061</td>\n",
       "      <td>KM12</td>\n",
       "      <td>14000046</td>\n",
       "      <td>Structure Fire</td>\n",
       "      <td>01/01/2014</td>\n",
       "      <td>12/31/2013</td>\n",
       "      <td>01/01/2014 12:43:09 AM</td>\n",
       "      <td>01/01/2014 12:44:07 AM</td>\n",
       "      <td>01/01/2014 12:47:31 AM</td>\n",
       "      <td>01/01/2014 12:47:31 AM</td>\n",
       "      <td>...</td>\n",
       "      <td>Alarm</td>\n",
       "      <td>1</td>\n",
       "      <td>PRIVATE</td>\n",
       "      <td>7</td>\n",
       "      <td>4</td>\n",
       "      <td>2</td>\n",
       "      <td>Marina</td>\n",
       "      <td>140010061-KM12</td>\n",
       "      <td>POINT (-122.429500504516 37.801174806033)</td>\n",
       "      <td>13</td>\n",
       "    </tr>\n",
       "    <tr>\n",
       "      <th>2</th>\n",
       "      <td>140010523</td>\n",
       "      <td>B08</td>\n",
       "      <td>14000439</td>\n",
       "      <td>Alarms</td>\n",
       "      <td>01/01/2014</td>\n",
       "      <td>01/01/2014</td>\n",
       "      <td>01/01/2014 06:47:53 PM</td>\n",
       "      <td>01/01/2014 06:50:10 PM</td>\n",
       "      <td>01/01/2014 06:50:17 PM</td>\n",
       "      <td>01/01/2014 06:50:59 PM</td>\n",
       "      <td>...</td>\n",
       "      <td>Alarm</td>\n",
       "      <td>1</td>\n",
       "      <td>CHIEF</td>\n",
       "      <td>2</td>\n",
       "      <td>8</td>\n",
       "      <td>7</td>\n",
       "      <td>Inner Sunset</td>\n",
       "      <td>140010523-B08</td>\n",
       "      <td>POINT (-122.47140400613 37.761010743685)</td>\n",
       "      <td>14</td>\n",
       "    </tr>\n",
       "  </tbody>\n",
       "</table>\n",
       "<p>3 rows × 35 columns</p>\n",
       "</div>"
      ],
      "text/plain": [
       "   Call Number Unit ID  Incident Number       Call Type   Call Date  \\\n",
       "0    140010567     E36         14000479  Structure Fire  01/01/2014   \n",
       "1    140010061    KM12         14000046  Structure Fire  01/01/2014   \n",
       "2    140010523     B08         14000439          Alarms  01/01/2014   \n",
       "\n",
       "   Watch Date           Received DtTm              Entry DtTm  \\\n",
       "0  01/01/2014  01/01/2014 09:32:54 PM  01/01/2014 09:33:31 PM   \n",
       "1  12/31/2013  01/01/2014 12:43:09 AM  01/01/2014 12:44:07 AM   \n",
       "2  01/01/2014  01/01/2014 06:47:53 PM  01/01/2014 06:50:10 PM   \n",
       "\n",
       "            Dispatch DtTm           Response DtTm  ... Call Type Group  \\\n",
       "0  01/01/2014 09:36:27 PM  01/01/2014 09:37:00 PM  ...            Fire   \n",
       "1  01/01/2014 12:47:31 AM  01/01/2014 12:47:31 AM  ...           Alarm   \n",
       "2  01/01/2014 06:50:17 PM  01/01/2014 06:50:59 PM  ...           Alarm   \n",
       "\n",
       "  Number of Alarms Unit Type Unit sequence in call dispatch  \\\n",
       "0                1    ENGINE                             12   \n",
       "1                1   PRIVATE                              7   \n",
       "2                1     CHIEF                              2   \n",
       "\n",
       "  Fire Prevention District Supervisor District  \\\n",
       "0                        4                   5   \n",
       "1                        4                   2   \n",
       "2                        8                   7   \n",
       "\n",
       "  Neighborhooods - Analysis Boundaries           RowID  \\\n",
       "0                     Western Addition   140010567-E36   \n",
       "1                               Marina  140010061-KM12   \n",
       "2                         Inner Sunset   140010523-B08   \n",
       "\n",
       "                               case_location Analysis Neighborhoods  \n",
       "0  POINT (-122.427815582933 37.784448089516)                     39  \n",
       "1  POINT (-122.429500504516 37.801174806033)                     13  \n",
       "2   POINT (-122.47140400613 37.761010743685)                     14  \n",
       "\n",
       "[3 rows x 35 columns]"
      ]
     },
     "execution_count": 71,
     "metadata": {},
     "output_type": "execute_result"
    }
   ],
   "source": [
    "calls_date.limit(3).toPandas()"
   ]
  },
  {
   "cell_type": "code",
   "execution_count": 74,
   "id": "0dca731d-a91f-4123-ad3e-7b3a24edc5b1",
   "metadata": {},
   "outputs": [],
   "source": [
    "from pyspark.sql.functions import sum"
   ]
  },
  {
   "cell_type": "code",
   "execution_count": 77,
   "id": "41b7a7f3-2c6a-49b1-9f4c-94591ce909c9",
   "metadata": {},
   "outputs": [],
   "source": [
    "calls_grouped = calls_date.groupBy(\"Call Type\").agg(sum(\"Number of Alarms\").alias(\"Num_Alarms\"))"
   ]
  },
  {
   "cell_type": "code",
   "execution_count": 78,
   "id": "4b4ed5b9-3f51-4a1b-9adc-bd0193863bac",
   "metadata": {},
   "outputs": [
    {
     "name": "stderr",
     "output_type": "stream",
     "text": [
      "[Stage 60:====================================================>   (16 + 1) / 17]"
     ]
    },
    {
     "name": "stdout",
     "output_type": "stream",
     "text": [
      "+--------------------+----------+\n",
      "|           Call Type|Num_Alarms|\n",
      "+--------------------+----------+\n",
      "|              Alarms|        82|\n",
      "|      Structure Fire|       164|\n",
      "|Elevator / Escala...|         1|\n",
      "|Citizen Assist / ...|        10|\n",
      "|        Vehicle Fire|         2|\n",
      "|               Other|        25|\n",
      "|        Outside Fire|        35|\n",
      "|   Traffic Collision|        54|\n",
      "|Gas Leak (Natural...|         7|\n",
      "|        Water Rescue|        13|\n",
      "|    Medical Incident|       818|\n",
      "|          Fuel Spill|         5|\n",
      "|Smoke Investigati...|         2|\n",
      "+--------------------+----------+\n",
      "\n"
     ]
    },
    {
     "name": "stderr",
     "output_type": "stream",
     "text": [
      "                                                                                "
     ]
    }
   ],
   "source": [
    "calls_grouped.show()"
   ]
  },
  {
   "cell_type": "markdown",
   "id": "5efd78ea-f575-4755-bb53-6fffda01a94b",
   "metadata": {},
   "source": [
    "# Caching"
   ]
  },
  {
   "cell_type": "code",
   "execution_count": 96,
   "id": "65ebd0a5-1a46-4645-8424-420457ee1e85",
   "metadata": {},
   "outputs": [],
   "source": [
    "calls_high = calls_grouped.filter(expr(\"Num_Alarms > 100\"))"
   ]
  },
  {
   "cell_type": "code",
   "execution_count": 97,
   "id": "ab461723-095d-4ada-b5ad-553770ffd206",
   "metadata": {},
   "outputs": [
    {
     "name": "stderr",
     "output_type": "stream",
     "text": [
      "[Stage 98:=================================================>      (15 + 2) / 17]"
     ]
    },
    {
     "name": "stdout",
     "output_type": "stream",
     "text": [
      "CPU times: user 8.06 ms, sys: 17.4 ms, total: 25.5 ms\n",
      "Wall time: 4.58 s\n"
     ]
    },
    {
     "name": "stderr",
     "output_type": "stream",
     "text": [
      "                                                                                "
     ]
    },
    {
     "data": {
      "text/plain": [
       "2"
      ]
     },
     "execution_count": 97,
     "metadata": {},
     "output_type": "execute_result"
    }
   ],
   "source": [
    "%%time\n",
    "calls_high.count()"
   ]
  },
  {
   "cell_type": "code",
   "execution_count": null,
   "id": "2af3d4c2-3348-47ac-8d26-366af131e744",
   "metadata": {},
   "outputs": [],
   "source": []
  },
  {
   "cell_type": "code",
   "execution_count": 98,
   "id": "1e0588c6-6c35-4306-b3bd-22e1273a635c",
   "metadata": {},
   "outputs": [
    {
     "data": {
      "text/plain": [
       "DataFrame[Call Type: string, Num_Alarms: bigint]"
      ]
     },
     "execution_count": 98,
     "metadata": {},
     "output_type": "execute_result"
    }
   ],
   "source": [
    "calls_grouped.cache()"
   ]
  },
  {
   "cell_type": "code",
   "execution_count": 99,
   "id": "17ebe8af-3a9d-45bd-a06d-cc5e073e8e6d",
   "metadata": {},
   "outputs": [
    {
     "name": "stderr",
     "output_type": "stream",
     "text": [
      "[Stage 104:===================================================>   (16 + 1) / 17]"
     ]
    },
    {
     "name": "stdout",
     "output_type": "stream",
     "text": [
      "CPU times: user 16.6 ms, sys: 13.8 ms, total: 30.4 ms\n",
      "Wall time: 4.95 s\n"
     ]
    },
    {
     "name": "stderr",
     "output_type": "stream",
     "text": [
      "                                                                                "
     ]
    },
    {
     "data": {
      "text/plain": [
       "2"
      ]
     },
     "execution_count": 99,
     "metadata": {},
     "output_type": "execute_result"
    }
   ],
   "source": [
    "%%time\n",
    "calls_high.count()"
   ]
  },
  {
   "cell_type": "code",
   "execution_count": 100,
   "id": "4edaeca5-e689-40df-9057-5f936d449744",
   "metadata": {},
   "outputs": [
    {
     "name": "stdout",
     "output_type": "stream",
     "text": [
      "CPU times: user 2.63 ms, sys: 486 μs, total: 3.11 ms\n",
      "Wall time: 426 ms\n"
     ]
    },
    {
     "data": {
      "text/plain": [
       "2"
      ]
     },
     "execution_count": 100,
     "metadata": {},
     "output_type": "execute_result"
    }
   ],
   "source": [
    "%%time\n",
    "calls_high.count()"
   ]
  },
  {
   "cell_type": "code",
   "execution_count": 101,
   "id": "b00c6301-0407-49db-9035-5c239d014ef2",
   "metadata": {},
   "outputs": [
    {
     "data": {
      "text/plain": [
       "DataFrame[Call Type: string, Num_Alarms: bigint]"
      ]
     },
     "execution_count": 101,
     "metadata": {},
     "output_type": "execute_result"
    }
   ],
   "source": [
    "calls_grouped.unpersist()"
   ]
  },
  {
   "cell_type": "markdown",
   "id": "b8ac8a97-203c-4ce0-b9c7-8507f7b03154",
   "metadata": {},
   "source": [
    "# Join"
   ]
  },
  {
   "cell_type": "code",
   "execution_count": null,
   "id": "e497f518-f0b0-4f25-b49c-ed28e53b6e90",
   "metadata": {},
   "outputs": [],
   "source": []
  },
  {
   "cell_type": "code",
   "execution_count": null,
   "id": "4b828c24-6b74-44e1-a7c9-27a70756ad51",
   "metadata": {},
   "outputs": [],
   "source": []
  },
  {
   "cell_type": "markdown",
   "id": "d568b353-64aa-42c3-b677-e0cef7ff5926",
   "metadata": {},
   "source": [
    "# Partition"
   ]
  },
  {
   "cell_type": "code",
   "execution_count": 55,
   "id": "8c37bc8c-b483-429c-8450-3fb8b570a262",
   "metadata": {},
   "outputs": [
    {
     "name": "stderr",
     "output_type": "stream",
     "text": [
      "                                                                                "
     ]
    },
    {
     "data": {
      "text/plain": [
       "280905"
      ]
     },
     "execution_count": 55,
     "metadata": {},
     "output_type": "execute_result"
    }
   ],
   "source": [
    "calls_14 = calls.filter(expr(\"`Call Date` like '%2014'\"))\n",
    "calls_14.count()"
   ]
  },
  {
   "cell_type": "code",
   "execution_count": 56,
   "id": "6947336d-9114-445e-a78f-7287e39a05fd",
   "metadata": {},
   "outputs": [
    {
     "data": {
      "text/plain": [
       "17"
      ]
     },
     "execution_count": 56,
     "metadata": {},
     "output_type": "execute_result"
    }
   ],
   "source": [
    "calls.rdd.getNumPartitions()"
   ]
  },
  {
   "cell_type": "code",
   "execution_count": null,
   "id": "091df225-8952-4979-b8dd-3e85f7903691",
   "metadata": {},
   "outputs": [],
   "source": []
  }
 ],
 "metadata": {
  "kernelspec": {
   "display_name": "Python 3 (ipykernel)",
   "language": "python",
   "name": "python3"
  },
  "language_info": {
   "codemirror_mode": {
    "name": "ipython",
    "version": 3
   },
   "file_extension": ".py",
   "mimetype": "text/x-python",
   "name": "python",
   "nbconvert_exporter": "python",
   "pygments_lexer": "ipython3",
   "version": "3.10.12"
  }
 },
 "nbformat": 4,
 "nbformat_minor": 5
}
