{
 "cells": [
  {
   "cell_type": "code",
   "execution_count": 2,
   "id": "f1700128-15e4-4718-8122-0338bb2864da",
   "metadata": {},
   "outputs": [],
   "source": [
    "from pyspark.sql import SparkSession"
   ]
  },
  {
   "cell_type": "code",
   "execution_count": 3,
   "id": "c165ad0e-54a8-4386-9091-b8ae7b015710",
   "metadata": {},
   "outputs": [
    {
     "name": "stderr",
     "output_type": "stream",
     "text": [
      "Setting default log level to \"WARN\".\n",
      "To adjust logging level use sc.setLogLevel(newLevel). For SparkR, use setLogLevel(newLevel).\n"
     ]
    },
    {
     "name": "stdout",
     "output_type": "stream",
     "text": [
      "25/01/30 22:51:46 WARN NativeCodeLoader: Unable to load native-hadoop library for your platform... using builtin-java classes where applicable\n"
     ]
    }
   ],
   "source": [
    "# Initialize SparkSession\n",
    "spark = (SparkSession.builder\n",
    "        .appName(\"cs744\")\n",
    "        .master(\"spark://master:7077\")\n",
    "        .config(\"spark.driver.memory\", \"20g\")\n",
    "        .config(\"spark.executor.memory\", \"20g\")\n",
    "        .config(\"spark.executor.cores\", \"4\")\n",
    "        .getOrCreate())"
   ]
  },
  {
   "cell_type": "code",
   "execution_count": 15,
   "id": "306001b0-3609-46dd-8d72-f7b51d652ac3",
   "metadata": {},
   "outputs": [],
   "source": [
    "holidays = spark.read.csv(\"hdfs://nn:9000/holidays2.csv\", inferSchema=True, header=True)"
   ]
  },
  {
   "cell_type": "code",
   "execution_count": 16,
   "id": "5665b290-80ae-4413-bce8-70ef487c140b",
   "metadata": {},
   "outputs": [
    {
     "name": "stdout",
     "output_type": "stream",
     "text": [
      "+----------+--------------------+\n",
      "|      date|             holiday|\n",
      "+----------+--------------------+\n",
      "|01/01/2013|      New Year's Day|\n",
      "|01/01/2014|      New Year's Day|\n",
      "|01/01/2015|      New Year's Day|\n",
      "|01/01/2016|      New Year's Day|\n",
      "|01/01/2018|      New Year's Day|\n",
      "|01/01/2019|      New Year's Day|\n",
      "|01/01/2020|      New Year's Day|\n",
      "|01/01/2021|      New Year's Day|\n",
      "|01/02/2012|      New Year's Day|\n",
      "|01/02/2017|      New Year's Day|\n",
      "|01/15/2018|Birthday of Marti...|\n",
      "|01/16/2012|Birthday of Marti...|\n",
      "|01/16/2017|Birthday of Marti...|\n",
      "|01/17/2011|Birthday of Marti...|\n",
      "|01/17/2022|Birthday of Marti...|\n",
      "|01/18/2016|Birthday of Marti...|\n",
      "|01/18/2021|Birthday of Marti...|\n",
      "|01/19/2015|Birthday of Marti...|\n",
      "|01/20/2014|Birthday of Marti...|\n",
      "|01/20/2020|Birthday of Marti...|\n",
      "+----------+--------------------+\n",
      "only showing top 20 rows\n",
      "\n"
     ]
    }
   ],
   "source": [
    "holidays.show()"
   ]
  },
  {
   "cell_type": "code",
   "execution_count": 10,
   "id": "1a2b56eb-3eec-4c32-ba6b-451323a17e9a",
   "metadata": {},
   "outputs": [
    {
     "name": "stderr",
     "output_type": "stream",
     "text": [
      "                                                                                "
     ]
    },
    {
     "data": {
      "text/html": [
       "<div>\n",
       "<style scoped>\n",
       "    .dataframe tbody tr th:only-of-type {\n",
       "        vertical-align: middle;\n",
       "    }\n",
       "\n",
       "    .dataframe tbody tr th {\n",
       "        vertical-align: top;\n",
       "    }\n",
       "\n",
       "    .dataframe thead th {\n",
       "        text-align: right;\n",
       "    }\n",
       "</style>\n",
       "<table border=\"1\" class=\"dataframe\">\n",
       "  <thead>\n",
       "    <tr style=\"text-align: right;\">\n",
       "      <th></th>\n",
       "      <th>date</th>\n",
       "      <th>holiday</th>\n",
       "    </tr>\n",
       "  </thead>\n",
       "  <tbody>\n",
       "    <tr>\n",
       "      <th>0</th>\n",
       "      <td>01/01/2013</td>\n",
       "      <td>New Year's Day</td>\n",
       "    </tr>\n",
       "    <tr>\n",
       "      <th>1</th>\n",
       "      <td>01/01/2014</td>\n",
       "      <td>New Year's Day</td>\n",
       "    </tr>\n",
       "    <tr>\n",
       "      <th>2</th>\n",
       "      <td>01/01/2015</td>\n",
       "      <td>New Year's Day</td>\n",
       "    </tr>\n",
       "    <tr>\n",
       "      <th>3</th>\n",
       "      <td>01/01/2016</td>\n",
       "      <td>New Year's Day</td>\n",
       "    </tr>\n",
       "    <tr>\n",
       "      <th>4</th>\n",
       "      <td>01/01/2018</td>\n",
       "      <td>New Year's Day</td>\n",
       "    </tr>\n",
       "  </tbody>\n",
       "</table>\n",
       "</div>"
      ],
      "text/plain": [
       "         date         holiday\n",
       "0  01/01/2013  New Year's Day\n",
       "1  01/01/2014  New Year's Day\n",
       "2  01/01/2015  New Year's Day\n",
       "3  01/01/2016  New Year's Day\n",
       "4  01/01/2018  New Year's Day"
      ]
     },
     "execution_count": 10,
     "metadata": {},
     "output_type": "execute_result"
    }
   ],
   "source": [
    "holiday.limit(5).toPandas()"
   ]
  },
  {
   "cell_type": "code",
   "execution_count": 11,
   "id": "9050927c-b087-4ab2-a399-777e6cdc2fdd",
   "metadata": {},
   "outputs": [
    {
     "name": "stderr",
     "output_type": "stream",
     "text": [
      "                                                                                "
     ]
    }
   ],
   "source": [
    "calls = spark.read.csv(\"hdfs://nn:9000/sf.csv\", inferSchema=True, header=True)"
   ]
  },
  {
   "cell_type": "code",
   "execution_count": 12,
   "id": "60e12a95-3dab-440e-a2e0-89dfb90d857a",
   "metadata": {},
   "outputs": [
    {
     "name": "stdout",
     "output_type": "stream",
     "text": [
      "25/01/30 22:56:59 WARN package: Truncated the string representation of a plan since it was too large. This behavior can be adjusted by setting 'spark.sql.debug.maxToStringFields'.\n"
     ]
    },
    {
     "data": {
      "text/html": [
       "<div>\n",
       "<style scoped>\n",
       "    .dataframe tbody tr th:only-of-type {\n",
       "        vertical-align: middle;\n",
       "    }\n",
       "\n",
       "    .dataframe tbody tr th {\n",
       "        vertical-align: top;\n",
       "    }\n",
       "\n",
       "    .dataframe thead th {\n",
       "        text-align: right;\n",
       "    }\n",
       "</style>\n",
       "<table border=\"1\" class=\"dataframe\">\n",
       "  <thead>\n",
       "    <tr style=\"text-align: right;\">\n",
       "      <th></th>\n",
       "      <th>Call Number</th>\n",
       "      <th>Unit ID</th>\n",
       "      <th>Incident Number</th>\n",
       "      <th>Call Type</th>\n",
       "      <th>Call Date</th>\n",
       "      <th>Watch Date</th>\n",
       "      <th>Received DtTm</th>\n",
       "      <th>Entry DtTm</th>\n",
       "      <th>Dispatch DtTm</th>\n",
       "      <th>Response DtTm</th>\n",
       "      <th>...</th>\n",
       "      <th>Call Type Group</th>\n",
       "      <th>Number of Alarms</th>\n",
       "      <th>Unit Type</th>\n",
       "      <th>Unit sequence in call dispatch</th>\n",
       "      <th>Fire Prevention District</th>\n",
       "      <th>Supervisor District</th>\n",
       "      <th>Neighborhooods - Analysis Boundaries</th>\n",
       "      <th>RowID</th>\n",
       "      <th>case_location</th>\n",
       "      <th>Analysis Neighborhoods</th>\n",
       "    </tr>\n",
       "  </thead>\n",
       "  <tbody>\n",
       "    <tr>\n",
       "      <th>0</th>\n",
       "      <td>221210313</td>\n",
       "      <td>E36</td>\n",
       "      <td>22054955</td>\n",
       "      <td>Outside Fire</td>\n",
       "      <td>05/01/2022</td>\n",
       "      <td>04/30/2022</td>\n",
       "      <td>05/01/2022 02:58:25 AM</td>\n",
       "      <td>05/01/2022 02:59:15 AM</td>\n",
       "      <td>05/01/2022 02:59:25 AM</td>\n",
       "      <td>05/01/2022 03:01:06 AM</td>\n",
       "      <td>...</td>\n",
       "      <td>Fire</td>\n",
       "      <td>1</td>\n",
       "      <td>ENGINE</td>\n",
       "      <td>1</td>\n",
       "      <td>2</td>\n",
       "      <td>5</td>\n",
       "      <td>Hayes Valley</td>\n",
       "      <td>221210313-E36</td>\n",
       "      <td>POINT (-122.42316555403964 37.77781524520032)</td>\n",
       "      <td>9</td>\n",
       "    </tr>\n",
       "    <tr>\n",
       "      <th>1</th>\n",
       "      <td>220190150</td>\n",
       "      <td>E29</td>\n",
       "      <td>22008871</td>\n",
       "      <td>Alarms</td>\n",
       "      <td>01/19/2022</td>\n",
       "      <td>01/18/2022</td>\n",
       "      <td>01/19/2022 01:42:12 AM</td>\n",
       "      <td>01/19/2022 01:44:13 AM</td>\n",
       "      <td>01/19/2022 01:44:28 AM</td>\n",
       "      <td>01/19/2022 01:46:47 AM</td>\n",
       "      <td>...</td>\n",
       "      <td>Alarm</td>\n",
       "      <td>1</td>\n",
       "      <td>ENGINE</td>\n",
       "      <td>1</td>\n",
       "      <td>3</td>\n",
       "      <td>10</td>\n",
       "      <td>Potrero Hill</td>\n",
       "      <td>220190150-E29</td>\n",
       "      <td>POINT (-122.39469970274361 37.76460987856451)</td>\n",
       "      <td>26</td>\n",
       "    </tr>\n",
       "    <tr>\n",
       "      <th>2</th>\n",
       "      <td>211233271</td>\n",
       "      <td>T07</td>\n",
       "      <td>21053032</td>\n",
       "      <td>Alarms</td>\n",
       "      <td>05/03/2021</td>\n",
       "      <td>05/03/2021</td>\n",
       "      <td>05/03/2021 09:28:12 PM</td>\n",
       "      <td>05/03/2021 09:28:12 PM</td>\n",
       "      <td>05/03/2021 09:28:17 PM</td>\n",
       "      <td>05/03/2021 09:29:10 PM</td>\n",
       "      <td>...</td>\n",
       "      <td>Alarm</td>\n",
       "      <td>1</td>\n",
       "      <td>TRUCK</td>\n",
       "      <td>2</td>\n",
       "      <td>2</td>\n",
       "      <td>9</td>\n",
       "      <td>Mission</td>\n",
       "      <td>211233271-T07</td>\n",
       "      <td>POINT (-122.42057572093252 37.76418194637148)</td>\n",
       "      <td>20</td>\n",
       "    </tr>\n",
       "  </tbody>\n",
       "</table>\n",
       "<p>3 rows × 35 columns</p>\n",
       "</div>"
      ],
      "text/plain": [
       "   Call Number Unit ID  Incident Number     Call Type   Call Date  Watch Date  \\\n",
       "0    221210313     E36         22054955  Outside Fire  05/01/2022  04/30/2022   \n",
       "1    220190150     E29         22008871        Alarms  01/19/2022  01/18/2022   \n",
       "2    211233271     T07         21053032        Alarms  05/03/2021  05/03/2021   \n",
       "\n",
       "            Received DtTm              Entry DtTm           Dispatch DtTm  \\\n",
       "0  05/01/2022 02:58:25 AM  05/01/2022 02:59:15 AM  05/01/2022 02:59:25 AM   \n",
       "1  01/19/2022 01:42:12 AM  01/19/2022 01:44:13 AM  01/19/2022 01:44:28 AM   \n",
       "2  05/03/2021 09:28:12 PM  05/03/2021 09:28:12 PM  05/03/2021 09:28:17 PM   \n",
       "\n",
       "            Response DtTm  ... Call Type Group Number of Alarms Unit Type  \\\n",
       "0  05/01/2022 03:01:06 AM  ...            Fire                1    ENGINE   \n",
       "1  01/19/2022 01:46:47 AM  ...           Alarm                1    ENGINE   \n",
       "2  05/03/2021 09:29:10 PM  ...           Alarm                1     TRUCK   \n",
       "\n",
       "  Unit sequence in call dispatch Fire Prevention District Supervisor District  \\\n",
       "0                              1                        2                   5   \n",
       "1                              1                        3                  10   \n",
       "2                              2                        2                   9   \n",
       "\n",
       "  Neighborhooods - Analysis Boundaries          RowID  \\\n",
       "0                         Hayes Valley  221210313-E36   \n",
       "1                         Potrero Hill  220190150-E29   \n",
       "2                              Mission  211233271-T07   \n",
       "\n",
       "                                   case_location Analysis Neighborhoods  \n",
       "0  POINT (-122.42316555403964 37.77781524520032)                      9  \n",
       "1  POINT (-122.39469970274361 37.76460987856451)                     26  \n",
       "2  POINT (-122.42057572093252 37.76418194637148)                     20  \n",
       "\n",
       "[3 rows x 35 columns]"
      ]
     },
     "execution_count": 12,
     "metadata": {},
     "output_type": "execute_result"
    }
   ],
   "source": [
    "calls.limit(3).toPandas()"
   ]
  },
  {
   "cell_type": "markdown",
   "id": "28877e32-3f25-4630-b3f5-151a4c4d355c",
   "metadata": {},
   "source": [
    "# Filtering"
   ]
  },
  {
   "cell_type": "code",
   "execution_count": 13,
   "id": "afa2c88f-4117-4557-89ef-9300604b7c3f",
   "metadata": {},
   "outputs": [],
   "source": [
    "from pyspark.sql.functions import expr"
   ]
  },
  {
   "cell_type": "code",
   "execution_count": 19,
   "id": "0faa3b1e-c8ff-4099-93cf-c3a2bc22b345",
   "metadata": {},
   "outputs": [],
   "source": [
    "holidays_14 = holidays.filter(expr(\"date like '%2014'\"))"
   ]
  },
  {
   "cell_type": "code",
   "execution_count": 21,
   "id": "23b13a03-e3e6-4138-b062-8a91621033ad",
   "metadata": {},
   "outputs": [],
   "source": [
    "holidays_14_birth = holidays_14.filter(expr(\"holiday like '%Birthday%'\"))"
   ]
  },
  {
   "cell_type": "code",
   "execution_count": 22,
   "id": "a93ad17a-b64a-4903-bbd3-cdc87d9233d8",
   "metadata": {},
   "outputs": [
    {
     "name": "stdout",
     "output_type": "stream",
     "text": [
      "+----------+--------------------+\n",
      "|      date|             holiday|\n",
      "+----------+--------------------+\n",
      "|01/20/2014|Birthday of Marti...|\n",
      "|02/17/2014|Washington's Birt...|\n",
      "+----------+--------------------+\n",
      "\n"
     ]
    }
   ],
   "source": [
    "holidays_14_birth.show()"
   ]
  },
  {
   "cell_type": "code",
   "execution_count": 23,
   "id": "adb9daeb-3e58-4a0e-87b9-74f12cc6f1c0",
   "metadata": {},
   "outputs": [
    {
     "data": {
      "text/plain": [
       "2"
      ]
     },
     "execution_count": 23,
     "metadata": {},
     "output_type": "execute_result"
    }
   ],
   "source": [
    "holidays_14_birth.count()"
   ]
  },
  {
   "cell_type": "markdown",
   "id": "45991307-ebeb-42ea-b3b4-75755a4ce0e0",
   "metadata": {},
   "source": [
    "# Selecting Columns"
   ]
  },
  {
   "cell_type": "code",
   "execution_count": 27,
   "id": "a4f34330-5f70-4700-b084-140ad490eb55",
   "metadata": {},
   "outputs": [],
   "source": [
    "calls_call_date = calls.select(\"Call Date\")"
   ]
  },
  {
   "cell_type": "code",
   "execution_count": 30,
   "id": "41722ce9-7d59-4bb7-b543-32d7c2d4169d",
   "metadata": {},
   "outputs": [
    {
     "name": "stderr",
     "output_type": "stream",
     "text": [
      "                                                                                "
     ]
    },
    {
     "data": {
      "text/plain": [
       "6016056"
      ]
     },
     "execution_count": 30,
     "metadata": {},
     "output_type": "execute_result"
    }
   ],
   "source": [
    "calls_call_date.count()"
   ]
  },
  {
   "cell_type": "markdown",
   "id": "e7661e3b-1457-4894-9295-3eebabdb3605",
   "metadata": {},
   "source": [
    "# Grouping"
   ]
  },
  {
   "cell_type": "code",
   "execution_count": 31,
   "id": "b8f747f0-9078-4400-9a59-1293c196933c",
   "metadata": {},
   "outputs": [],
   "source": [
    "# SELECT SUM(`Number of Alarms`) as \"Total Alarms\"\n",
    "# FROM calls\n",
    "# GROUP BY `Call Type`\n",
    "# WHERE `Call Date` = '01/01/2014'"
   ]
  },
  {
   "cell_type": "code",
   "execution_count": 33,
   "id": "f8b955fe-90e2-47dc-9d51-84ce252b8a7c",
   "metadata": {},
   "outputs": [],
   "source": [
    "from pyspark.sql.functions import sum"
   ]
  },
  {
   "cell_type": "code",
   "execution_count": 32,
   "id": "f8eff125-75f7-4207-9e73-01c84aad3e8d",
   "metadata": {},
   "outputs": [],
   "source": [
    "calls_date = calls.filter(expr(\"`Call Date` = '01/01/2014'\"))"
   ]
  },
  {
   "cell_type": "code",
   "execution_count": 34,
   "id": "0164ba0f-5930-4413-adf0-95b54a0ccea2",
   "metadata": {},
   "outputs": [],
   "source": [
    "calls_grouped = calls_date.groupBy(\"Call Type\").agg(sum(\"Number of Alarms\").alias(\"Num_Alarms\"))"
   ]
  },
  {
   "cell_type": "code",
   "execution_count": 36,
   "id": "9f010670-4456-4422-b7db-60b6fd70dd5b",
   "metadata": {},
   "outputs": [
    {
     "name": "stderr",
     "output_type": "stream",
     "text": [
      "[Stage 20:====================================================>   (16 + 1) / 17]"
     ]
    },
    {
     "name": "stdout",
     "output_type": "stream",
     "text": [
      "+--------------------+----------+\n",
      "|           Call Type|Num_Alarms|\n",
      "+--------------------+----------+\n",
      "|              Alarms|        82|\n",
      "|      Structure Fire|       164|\n",
      "|Elevator / Escala...|         1|\n",
      "|Citizen Assist / ...|        10|\n",
      "|        Vehicle Fire|         2|\n",
      "|               Other|        25|\n",
      "|        Outside Fire|        35|\n",
      "|   Traffic Collision|        54|\n",
      "|Gas Leak (Natural...|         7|\n",
      "|        Water Rescue|        13|\n",
      "|    Medical Incident|       818|\n",
      "|          Fuel Spill|         5|\n",
      "|Smoke Investigati...|         2|\n",
      "+--------------------+----------+\n",
      "\n"
     ]
    },
    {
     "name": "stderr",
     "output_type": "stream",
     "text": [
      "                                                                                "
     ]
    }
   ],
   "source": [
    "calls_grouped.show()"
   ]
  },
  {
   "cell_type": "markdown",
   "id": "823c0b2b-cbd5-4c6f-b6c0-5326bea3c8a8",
   "metadata": {},
   "source": [
    "# Caching"
   ]
  },
  {
   "cell_type": "code",
   "execution_count": 37,
   "id": "818adf38-7a37-408a-8705-1d76b45cce55",
   "metadata": {},
   "outputs": [],
   "source": [
    "calls_high = calls_grouped.filter(expr(\"Num_Alarms > 100\"))"
   ]
  },
  {
   "cell_type": "code",
   "execution_count": 38,
   "id": "218ddca7-a927-47fd-8356-416f976c079c",
   "metadata": {},
   "outputs": [
    {
     "name": "stderr",
     "output_type": "stream",
     "text": [
      "[Stage 23:=================================================>      (15 + 2) / 17]"
     ]
    },
    {
     "name": "stdout",
     "output_type": "stream",
     "text": [
      "+----------------+----------+\n",
      "|       Call Type|Num_Alarms|\n",
      "+----------------+----------+\n",
      "|  Structure Fire|       164|\n",
      "|Medical Incident|       818|\n",
      "+----------------+----------+\n",
      "\n"
     ]
    },
    {
     "name": "stderr",
     "output_type": "stream",
     "text": [
      "                                                                                "
     ]
    }
   ],
   "source": [
    "calls_high.show()"
   ]
  },
  {
   "cell_type": "code",
   "execution_count": 39,
   "id": "6dfbe92d-00ac-4c24-8e0b-807895b1ef94",
   "metadata": {},
   "outputs": [
    {
     "data": {
      "text/plain": [
       "DataFrame[Call Type: string, Num_Alarms: bigint]"
      ]
     },
     "execution_count": 39,
     "metadata": {},
     "output_type": "execute_result"
    }
   ],
   "source": [
    "calls_grouped.cache()"
   ]
  },
  {
   "cell_type": "code",
   "execution_count": 40,
   "id": "8a10dd76-cc2f-423b-8588-300f74bcd98d",
   "metadata": {},
   "outputs": [],
   "source": [
    "calls_high = calls_grouped.filter(expr(\"Num_Alarms > 100\"))"
   ]
  },
  {
   "cell_type": "code",
   "execution_count": 41,
   "id": "d53f7b7d-e664-45ef-9249-470cf68e20a3",
   "metadata": {},
   "outputs": [
    {
     "name": "stderr",
     "output_type": "stream",
     "text": [
      "                                                                                "
     ]
    },
    {
     "name": "stdout",
     "output_type": "stream",
     "text": [
      "+----------------+----------+\n",
      "|       Call Type|Num_Alarms|\n",
      "+----------------+----------+\n",
      "|  Structure Fire|       164|\n",
      "|Medical Incident|       818|\n",
      "+----------------+----------+\n",
      "\n"
     ]
    }
   ],
   "source": [
    "calls_high.show()"
   ]
  },
  {
   "cell_type": "code",
   "execution_count": 42,
   "id": "5e1d61d3-180c-4ff8-9cca-5d066684ff61",
   "metadata": {},
   "outputs": [
    {
     "name": "stdout",
     "output_type": "stream",
     "text": [
      "+----------------+----------+\n",
      "|       Call Type|Num_Alarms|\n",
      "+----------------+----------+\n",
      "|  Structure Fire|       164|\n",
      "|Medical Incident|       818|\n",
      "+----------------+----------+\n",
      "\n"
     ]
    }
   ],
   "source": [
    "calls_high = calls_grouped.filter(expr(\"Num_Alarms > 100\"))\n",
    "calls_high.show()"
   ]
  },
  {
   "cell_type": "markdown",
   "id": "cbf63f86-712d-4a21-895c-5d8b92d31a81",
   "metadata": {},
   "source": [
    "# Join"
   ]
  },
  {
   "cell_type": "code",
   "execution_count": 44,
   "id": "1fca1477-500f-4adb-8631-7c615fdccc66",
   "metadata": {},
   "outputs": [],
   "source": [
    "jdf = holidays.join(calls, holidays[\"date\"] == calls[\"Call Date\"], \"inner\")"
   ]
  },
  {
   "cell_type": "code",
   "execution_count": 45,
   "id": "ada86d20-3fab-4000-afd9-01c7e90ec65c",
   "metadata": {},
   "outputs": [
    {
     "data": {
      "text/html": [
       "<div>\n",
       "<style scoped>\n",
       "    .dataframe tbody tr th:only-of-type {\n",
       "        vertical-align: middle;\n",
       "    }\n",
       "\n",
       "    .dataframe tbody tr th {\n",
       "        vertical-align: top;\n",
       "    }\n",
       "\n",
       "    .dataframe thead th {\n",
       "        text-align: right;\n",
       "    }\n",
       "</style>\n",
       "<table border=\"1\" class=\"dataframe\">\n",
       "  <thead>\n",
       "    <tr style=\"text-align: right;\">\n",
       "      <th></th>\n",
       "      <th>date</th>\n",
       "      <th>holiday</th>\n",
       "      <th>Call Number</th>\n",
       "      <th>Unit ID</th>\n",
       "      <th>Incident Number</th>\n",
       "      <th>Call Type</th>\n",
       "      <th>Call Date</th>\n",
       "      <th>Watch Date</th>\n",
       "      <th>Received DtTm</th>\n",
       "      <th>Entry DtTm</th>\n",
       "      <th>...</th>\n",
       "      <th>Call Type Group</th>\n",
       "      <th>Number of Alarms</th>\n",
       "      <th>Unit Type</th>\n",
       "      <th>Unit sequence in call dispatch</th>\n",
       "      <th>Fire Prevention District</th>\n",
       "      <th>Supervisor District</th>\n",
       "      <th>Neighborhooods - Analysis Boundaries</th>\n",
       "      <th>RowID</th>\n",
       "      <th>case_location</th>\n",
       "      <th>Analysis Neighborhoods</th>\n",
       "    </tr>\n",
       "  </thead>\n",
       "  <tbody>\n",
       "    <tr>\n",
       "      <th>0</th>\n",
       "      <td>01/17/2022</td>\n",
       "      <td>Birthday of Martin Luther King, Jr.</td>\n",
       "      <td>220173023</td>\n",
       "      <td>67</td>\n",
       "      <td>22008351</td>\n",
       "      <td>Medical Incident</td>\n",
       "      <td>01/17/2022</td>\n",
       "      <td>01/17/2022</td>\n",
       "      <td>01/17/2022 09:23:31 PM</td>\n",
       "      <td>01/17/2022 09:24:26 PM</td>\n",
       "      <td>...</td>\n",
       "      <td>Potentially Life-Threatening</td>\n",
       "      <td>1</td>\n",
       "      <td>MEDIC</td>\n",
       "      <td>2</td>\n",
       "      <td>10</td>\n",
       "      <td>10</td>\n",
       "      <td>Bayview Hunters Point</td>\n",
       "      <td>220173023-67</td>\n",
       "      <td>POINT (-122.39096789028375 37.73401387414893)</td>\n",
       "      <td>1</td>\n",
       "    </tr>\n",
       "    <tr>\n",
       "      <th>1</th>\n",
       "      <td>01/17/2022</td>\n",
       "      <td>Birthday of Martin Luther King, Jr.</td>\n",
       "      <td>220170811</td>\n",
       "      <td>B02</td>\n",
       "      <td>22008104</td>\n",
       "      <td>Alarms</td>\n",
       "      <td>01/17/2022</td>\n",
       "      <td>01/17/2022</td>\n",
       "      <td>01/17/2022 09:28:15 AM</td>\n",
       "      <td>01/17/2022 09:29:17 AM</td>\n",
       "      <td>...</td>\n",
       "      <td>Alarm</td>\n",
       "      <td>1</td>\n",
       "      <td>CHIEF</td>\n",
       "      <td>2</td>\n",
       "      <td>2</td>\n",
       "      <td>9</td>\n",
       "      <td>Mission</td>\n",
       "      <td>220170811-B02</td>\n",
       "      <td>POINT (-122.4207461905871 37.765041354178884)</td>\n",
       "      <td>20</td>\n",
       "    </tr>\n",
       "    <tr>\n",
       "      <th>2</th>\n",
       "      <td>07/05/2021</td>\n",
       "      <td>Independence Day</td>\n",
       "      <td>211862605</td>\n",
       "      <td>E07</td>\n",
       "      <td>21079789</td>\n",
       "      <td>Medical Incident</td>\n",
       "      <td>07/05/2021</td>\n",
       "      <td>07/05/2021</td>\n",
       "      <td>07/05/2021 05:19:43 PM</td>\n",
       "      <td>07/05/2021 05:24:46 PM</td>\n",
       "      <td>...</td>\n",
       "      <td>Non Life-threatening</td>\n",
       "      <td>1</td>\n",
       "      <td>ENGINE</td>\n",
       "      <td>1</td>\n",
       "      <td>2</td>\n",
       "      <td>9</td>\n",
       "      <td>Mission</td>\n",
       "      <td>211862605-E07</td>\n",
       "      <td>POINT (-122.42173999514011 37.76411273839148)</td>\n",
       "      <td>20</td>\n",
       "    </tr>\n",
       "  </tbody>\n",
       "</table>\n",
       "<p>3 rows × 37 columns</p>\n",
       "</div>"
      ],
      "text/plain": [
       "         date                              holiday  Call Number Unit ID  \\\n",
       "0  01/17/2022  Birthday of Martin Luther King, Jr.    220173023      67   \n",
       "1  01/17/2022  Birthday of Martin Luther King, Jr.    220170811     B02   \n",
       "2  07/05/2021                     Independence Day    211862605     E07   \n",
       "\n",
       "   Incident Number         Call Type   Call Date  Watch Date  \\\n",
       "0         22008351  Medical Incident  01/17/2022  01/17/2022   \n",
       "1         22008104            Alarms  01/17/2022  01/17/2022   \n",
       "2         21079789  Medical Incident  07/05/2021  07/05/2021   \n",
       "\n",
       "            Received DtTm              Entry DtTm  ...  \\\n",
       "0  01/17/2022 09:23:31 PM  01/17/2022 09:24:26 PM  ...   \n",
       "1  01/17/2022 09:28:15 AM  01/17/2022 09:29:17 AM  ...   \n",
       "2  07/05/2021 05:19:43 PM  07/05/2021 05:24:46 PM  ...   \n",
       "\n",
       "                Call Type Group Number of Alarms Unit Type  \\\n",
       "0  Potentially Life-Threatening                1     MEDIC   \n",
       "1                         Alarm                1     CHIEF   \n",
       "2          Non Life-threatening                1    ENGINE   \n",
       "\n",
       "  Unit sequence in call dispatch Fire Prevention District Supervisor District  \\\n",
       "0                              2                       10                  10   \n",
       "1                              2                        2                   9   \n",
       "2                              1                        2                   9   \n",
       "\n",
       "  Neighborhooods - Analysis Boundaries          RowID  \\\n",
       "0                Bayview Hunters Point   220173023-67   \n",
       "1                              Mission  220170811-B02   \n",
       "2                              Mission  211862605-E07   \n",
       "\n",
       "                                   case_location  Analysis Neighborhoods  \n",
       "0  POINT (-122.39096789028375 37.73401387414893)                       1  \n",
       "1  POINT (-122.4207461905871 37.765041354178884)                      20  \n",
       "2  POINT (-122.42173999514011 37.76411273839148)                      20  \n",
       "\n",
       "[3 rows x 37 columns]"
      ]
     },
     "execution_count": 45,
     "metadata": {},
     "output_type": "execute_result"
    }
   ],
   "source": [
    "jdf.limit(3).toPandas()"
   ]
  },
  {
   "cell_type": "code",
   "execution_count": 47,
   "id": "0875f60b-d277-4133-8564-d45685f4c9b2",
   "metadata": {},
   "outputs": [],
   "source": [
    "cdf = jdf.filter(expr(\"`Call Date` = '01/01/2014'\"))"
   ]
  },
  {
   "cell_type": "code",
   "execution_count": 48,
   "id": "95e873d9-1702-4ce5-adf4-8fd50d856a81",
   "metadata": {},
   "outputs": [
    {
     "name": "stderr",
     "output_type": "stream",
     "text": [
      "                                                                                "
     ]
    },
    {
     "data": {
      "text/plain": [
       "1218"
      ]
     },
     "execution_count": 48,
     "metadata": {},
     "output_type": "execute_result"
    }
   ],
   "source": [
    "cdf.count()"
   ]
  },
  {
   "cell_type": "markdown",
   "id": "210d41e8-204a-42f8-ab6b-14d33ca6115d",
   "metadata": {},
   "source": [
    "# Partitioning"
   ]
  },
  {
   "cell_type": "code",
   "execution_count": 51,
   "id": "2724c763-6a73-4009-acd8-0638de968f07",
   "metadata": {},
   "outputs": [
    {
     "name": "stderr",
     "output_type": "stream",
     "text": [
      "                                                                                "
     ]
    },
    {
     "data": {
      "text/plain": [
       "6016056"
      ]
     },
     "execution_count": 51,
     "metadata": {},
     "output_type": "execute_result"
    }
   ],
   "source": [
    "calls.count()"
   ]
  },
  {
   "cell_type": "code",
   "execution_count": 52,
   "id": "09dc94fb-30bd-4fa6-b6cc-ea16d2422819",
   "metadata": {},
   "outputs": [
    {
     "data": {
      "text/plain": [
       "17"
      ]
     },
     "execution_count": 52,
     "metadata": {},
     "output_type": "execute_result"
    }
   ],
   "source": [
    "calls.rdd.getNumPartitions()"
   ]
  },
  {
   "cell_type": "code",
   "execution_count": 53,
   "id": "509035c9-8eae-4b7c-9040-cf4cc8c2af93",
   "metadata": {},
   "outputs": [],
   "source": [
    "df = calls.sample(0.01)"
   ]
  },
  {
   "cell_type": "code",
   "execution_count": 55,
   "id": "bd11965e-211f-4b22-aec5-5cfe692bfd95",
   "metadata": {},
   "outputs": [
    {
     "name": "stderr",
     "output_type": "stream",
     "text": [
      "[Stage 85:====================================================>   (16 + 1) / 17]"
     ]
    },
    {
     "name": "stdout",
     "output_type": "stream",
     "text": [
      "3.39 s ± 506 ms per loop (mean ± std. dev. of 7 runs, 1 loop each)\n"
     ]
    },
    {
     "name": "stderr",
     "output_type": "stream",
     "text": [
      "                                                                                "
     ]
    }
   ],
   "source": [
    "%%timeit\n",
    "df.count()"
   ]
  },
  {
   "cell_type": "markdown",
   "id": "68de0f6e-1733-4811-847a-e8ad4720aa5f",
   "metadata": {},
   "source": [
    "## Caching"
   ]
  },
  {
   "cell_type": "code",
   "execution_count": 56,
   "id": "25e50de5-942b-4792-a3b4-801c62a96c05",
   "metadata": {},
   "outputs": [
    {
     "data": {
      "text/plain": [
       "DataFrame[Call Number: int, Unit ID: string, Incident Number: int, Call Type: string, Call Date: string, Watch Date: string, Received DtTm: string, Entry DtTm: string, Dispatch DtTm: string, Response DtTm: string, On Scene DtTm: string, Transport DtTm: string, Hospital DtTm: string, Call Final Disposition: string, Available DtTm: string, Address: string, City: string, Zipcode of Incident: int, Battalion: string, Station Area: string, Box: string, Original Priority: string, Priority: string, Final Priority: int, ALS Unit: boolean, Call Type Group: string, Number of Alarms: int, Unit Type: string, Unit sequence in call dispatch: int, Fire Prevention District: string, Supervisor District: string, Neighborhooods - Analysis Boundaries: string, RowID: string, case_location: string, Analysis Neighborhoods: int]"
      ]
     },
     "execution_count": 56,
     "metadata": {},
     "output_type": "execute_result"
    }
   ],
   "source": [
    "df = calls.sample(0.01)\n",
    "df.cache()"
   ]
  },
  {
   "cell_type": "code",
   "execution_count": 57,
   "id": "e39b1130-9716-4f9f-af6d-98c77496334f",
   "metadata": {},
   "outputs": [
    {
     "name": "stderr",
     "output_type": "stream",
     "text": [
      "                                                                                "
     ]
    },
    {
     "data": {
      "text/plain": [
       "60572"
      ]
     },
     "execution_count": 57,
     "metadata": {},
     "output_type": "execute_result"
    }
   ],
   "source": [
    "df.count()"
   ]
  },
  {
   "cell_type": "code",
   "execution_count": 58,
   "id": "0de33987-22cc-4a0e-b066-0189b222bac4",
   "metadata": {},
   "outputs": [
    {
     "name": "stdout",
     "output_type": "stream",
     "text": [
      "127 ms ± 6.28 ms per loop (mean ± std. dev. of 7 runs, 10 loops each)\n"
     ]
    }
   ],
   "source": [
    "%%timeit\n",
    "df.count()"
   ]
  },
  {
   "cell_type": "markdown",
   "id": "82e4988a-ea6a-49ac-8214-dcd24e928540",
   "metadata": {},
   "source": [
    "## Repartitioning (without caching)"
   ]
  },
  {
   "cell_type": "code",
   "execution_count": 60,
   "id": "eafb3260-f749-419f-a8b5-ff2b1c46a032",
   "metadata": {},
   "outputs": [
    {
     "data": {
      "text/plain": [
       "DataFrame[Call Number: int, Unit ID: string, Incident Number: int, Call Type: string, Call Date: string, Watch Date: string, Received DtTm: string, Entry DtTm: string, Dispatch DtTm: string, Response DtTm: string, On Scene DtTm: string, Transport DtTm: string, Hospital DtTm: string, Call Final Disposition: string, Available DtTm: string, Address: string, City: string, Zipcode of Incident: int, Battalion: string, Station Area: string, Box: string, Original Priority: string, Priority: string, Final Priority: int, ALS Unit: boolean, Call Type Group: string, Number of Alarms: int, Unit Type: string, Unit sequence in call dispatch: int, Fire Prevention District: string, Supervisor District: string, Neighborhooods - Analysis Boundaries: string, RowID: string, case_location: string, Analysis Neighborhoods: int]"
      ]
     },
     "execution_count": 60,
     "metadata": {},
     "output_type": "execute_result"
    }
   ],
   "source": [
    "df.unpersist()"
   ]
  },
  {
   "cell_type": "code",
   "execution_count": 62,
   "id": "2d743afd-578b-4752-8bd7-73023680e2e2",
   "metadata": {},
   "outputs": [],
   "source": [
    "df = calls.sample(0.01).repartition(1)"
   ]
  },
  {
   "cell_type": "code",
   "execution_count": 63,
   "id": "c14d0201-a63f-4cd7-8d62-8a0a271f8d15",
   "metadata": {},
   "outputs": [
    {
     "name": "stderr",
     "output_type": "stream",
     "text": [
      "[Stage 598:===================================================>   (16 + 1) / 17]"
     ]
    },
    {
     "name": "stdout",
     "output_type": "stream",
     "text": [
      "3.94 s ± 870 ms per loop (mean ± std. dev. of 7 runs, 1 loop each)\n"
     ]
    },
    {
     "name": "stderr",
     "output_type": "stream",
     "text": [
      "                                                                                "
     ]
    }
   ],
   "source": [
    "%%timeit\n",
    "df.count()"
   ]
  },
  {
   "cell_type": "markdown",
   "id": "c9513051-8229-4755-95b6-9b3fa24fc7bc",
   "metadata": {},
   "source": [
    "## Repartitioning (with caching)"
   ]
  },
  {
   "cell_type": "code",
   "execution_count": 64,
   "id": "881f524f-0925-41ca-bc5e-f0fe550e9561",
   "metadata": {},
   "outputs": [
    {
     "data": {
      "text/plain": [
       "DataFrame[Call Number: int, Unit ID: string, Incident Number: int, Call Type: string, Call Date: string, Watch Date: string, Received DtTm: string, Entry DtTm: string, Dispatch DtTm: string, Response DtTm: string, On Scene DtTm: string, Transport DtTm: string, Hospital DtTm: string, Call Final Disposition: string, Available DtTm: string, Address: string, City: string, Zipcode of Incident: int, Battalion: string, Station Area: string, Box: string, Original Priority: string, Priority: string, Final Priority: int, ALS Unit: boolean, Call Type Group: string, Number of Alarms: int, Unit Type: string, Unit sequence in call dispatch: int, Fire Prevention District: string, Supervisor District: string, Neighborhooods - Analysis Boundaries: string, RowID: string, case_location: string, Analysis Neighborhoods: int]"
      ]
     },
     "execution_count": 64,
     "metadata": {},
     "output_type": "execute_result"
    }
   ],
   "source": [
    "df = calls.sample(0.01).repartition(1)\n",
    "df.cache()"
   ]
  },
  {
   "cell_type": "code",
   "execution_count": 65,
   "id": "52774aaa-33ee-4050-b43f-25a07899bdaf",
   "metadata": {},
   "outputs": [
    {
     "name": "stderr",
     "output_type": "stream",
     "text": [
      "                                                                                "
     ]
    },
    {
     "data": {
      "text/plain": [
       "60171"
      ]
     },
     "execution_count": 65,
     "metadata": {},
     "output_type": "execute_result"
    }
   ],
   "source": [
    "df.count()"
   ]
  },
  {
   "cell_type": "code",
   "execution_count": 66,
   "id": "31c69747-8f68-478f-9458-1ec8b458b91d",
   "metadata": {},
   "outputs": [
    {
     "name": "stdout",
     "output_type": "stream",
     "text": [
      "52.2 ms ± 3.4 ms per loop (mean ± std. dev. of 7 runs, 10 loops each)\n"
     ]
    }
   ],
   "source": [
    "%%timeit\n",
    "df.count()"
   ]
  },
  {
   "cell_type": "markdown",
   "id": "39ab09d8-2de6-4cb1-b991-8ca726dc7a39",
   "metadata": {},
   "source": [
    "# Explain"
   ]
  },
  {
   "cell_type": "code",
   "execution_count": 67,
   "id": "4a8a93eb-5db2-47f7-bb8d-11918582f8a9",
   "metadata": {},
   "outputs": [
    {
     "data": {
      "text/plain": [
       "\"\\nSELECT SUM(`Number of Alarms`)\\nFROM holidays JOIN calls on holidays.date = calls.`Call Date`\\nWHERE lower(holiday) like '%birthday%'\\n\""
      ]
     },
     "execution_count": 67,
     "metadata": {},
     "output_type": "execute_result"
    }
   ],
   "source": [
    "\"\"\"\n",
    "SELECT SUM(`Number of Alarms`)\n",
    "FROM holidays JOIN calls on holidays.date = calls.`Call Date`\n",
    "WHERE lower(holiday) like '%birthday%'\n",
    "\"\"\""
   ]
  },
  {
   "cell_type": "code",
   "execution_count": 68,
   "id": "3c406973-bcca-49f2-ad51-d47ba37e54f1",
   "metadata": {},
   "outputs": [],
   "source": [
    "joined_df = holidays.join(calls, holidays['date'] == calls['Call Date'], \"inner\")\n",
    "birth_df = joined_df.filter(expr(\"lower(holiday) like '%birthday%'\"))\n",
    "birth_df = birth_df.agg(sum(\"Number of Alarms\"))"
   ]
  },
  {
   "cell_type": "code",
   "execution_count": 69,
   "id": "de0a565a-e451-48e8-8a3b-48c35e040c78",
   "metadata": {},
   "outputs": [
    {
     "name": "stderr",
     "output_type": "stream",
     "text": [
      "                                                                                "
     ]
    },
    {
     "data": {
      "text/plain": [
       "1"
      ]
     },
     "execution_count": 69,
     "metadata": {},
     "output_type": "execute_result"
    }
   ],
   "source": [
    "birth_df.count()"
   ]
  },
  {
   "cell_type": "code",
   "execution_count": 70,
   "id": "4fe57776-46b7-48ab-b1a0-5c91e81d3cd5",
   "metadata": {},
   "outputs": [
    {
     "name": "stderr",
     "output_type": "stream",
     "text": [
      "[Stage 770:===================================================>   (16 + 1) / 17]"
     ]
    },
    {
     "name": "stdout",
     "output_type": "stream",
     "text": [
      "+---------------------+\n",
      "|sum(Number of Alarms)|\n",
      "+---------------------+\n",
      "|                18646|\n",
      "+---------------------+\n",
      "\n"
     ]
    },
    {
     "name": "stderr",
     "output_type": "stream",
     "text": [
      "                                                                                "
     ]
    }
   ],
   "source": [
    "birth_df.show()"
   ]
  },
  {
   "cell_type": "code",
   "execution_count": 71,
   "id": "27bb3f68-2d91-4c3b-bfbc-d7a7c93c941e",
   "metadata": {},
   "outputs": [
    {
     "name": "stdout",
     "output_type": "stream",
     "text": [
      "== Physical Plan ==\n",
      "AdaptiveSparkPlan (12)\n",
      "+- HashAggregate (11)\n",
      "   +- Exchange (10)\n",
      "      +- HashAggregate (9)\n",
      "         +- Project (8)\n",
      "            +- BroadcastHashJoin Inner BuildLeft (7)\n",
      "               :- BroadcastExchange (4)\n",
      "               :  +- Project (3)\n",
      "               :     +- Filter (2)\n",
      "               :        +- Scan csv  (1)\n",
      "               +- Filter (6)\n",
      "                  +- Scan csv  (5)\n",
      "\n",
      "\n",
      "(1) Scan csv \n",
      "Output [2]: [date#209, holiday#210]\n",
      "Batched: false\n",
      "Location: InMemoryFileIndex [hdfs://nn:9000/holidays2.csv]\n",
      "PushedFilters: [IsNotNull(holiday), IsNotNull(date)]\n",
      "ReadSchema: struct<date:string,holiday:string>\n",
      "\n",
      "(2) Filter\n",
      "Input [2]: [date#209, holiday#210]\n",
      "Condition : ((isnotnull(holiday#210) AND Contains(lower(holiday#210), birthday)) AND isnotnull(date#209))\n",
      "\n",
      "(3) Project\n",
      "Output [1]: [date#209]\n",
      "Input [2]: [date#209, holiday#210]\n",
      "\n",
      "(4) BroadcastExchange\n",
      "Input [1]: [date#209]\n",
      "Arguments: HashedRelationBroadcastMode(List(input[0, string, true]),false), [plan_id=8159]\n",
      "\n",
      "(5) Scan csv \n",
      "Output [2]: [Call Date#91, Number of Alarms#113]\n",
      "Batched: false\n",
      "Location: InMemoryFileIndex [hdfs://nn:9000/sf.csv]\n",
      "PushedFilters: [IsNotNull(Call Date)]\n",
      "ReadSchema: struct<Call Date:string,Number of Alarms:int>\n",
      "\n",
      "(6) Filter\n",
      "Input [2]: [Call Date#91, Number of Alarms#113]\n",
      "Condition : isnotnull(Call Date#91)\n",
      "\n",
      "(7) BroadcastHashJoin\n",
      "Left keys [1]: [date#209]\n",
      "Right keys [1]: [Call Date#91]\n",
      "Join condition: None\n",
      "\n",
      "(8) Project\n",
      "Output [1]: [Number of Alarms#113]\n",
      "Input [3]: [date#209, Call Date#91, Number of Alarms#113]\n",
      "\n",
      "(9) HashAggregate\n",
      "Input [1]: [Number of Alarms#113]\n",
      "Keys: []\n",
      "Functions [1]: [partial_sum(Number of Alarms#113)]\n",
      "Aggregate Attributes [1]: [sum#211877L]\n",
      "Results [1]: [sum#211878L]\n",
      "\n",
      "(10) Exchange\n",
      "Input [1]: [sum#211878L]\n",
      "Arguments: SinglePartition, ENSURE_REQUIREMENTS, [plan_id=8164]\n",
      "\n",
      "(11) HashAggregate\n",
      "Input [1]: [sum#211878L]\n",
      "Keys: []\n",
      "Functions [1]: [sum(Number of Alarms#113)]\n",
      "Aggregate Attributes [1]: [sum(Number of Alarms#113)#211825L]\n",
      "Results [1]: [sum(Number of Alarms#113)#211825L AS sum(Number of Alarms)#211863L]\n",
      "\n",
      "(12) AdaptiveSparkPlan\n",
      "Output [1]: [sum(Number of Alarms)#211863L]\n",
      "Arguments: isFinalPlan=false\n",
      "\n",
      "\n"
     ]
    }
   ],
   "source": [
    "birth_df.explain(\"formatted\")"
   ]
  },
  {
   "cell_type": "code",
   "execution_count": null,
   "id": "522c463d-002a-417a-9e71-2dca3d102be7",
   "metadata": {},
   "outputs": [],
   "source": []
  }
 ],
 "metadata": {
  "kernelspec": {
   "display_name": "Python 3 (ipykernel)",
   "language": "python",
   "name": "python3"
  },
  "language_info": {
   "codemirror_mode": {
    "name": "ipython",
    "version": 3
   },
   "file_extension": ".py",
   "mimetype": "text/x-python",
   "name": "python",
   "nbconvert_exporter": "python",
   "pygments_lexer": "ipython3",
   "version": "3.10.12"
  }
 },
 "nbformat": 4,
 "nbformat_minor": 5
}
